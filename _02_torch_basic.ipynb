{
  "nbformat": 4,
  "nbformat_minor": 0,
  "metadata": {
    "colab": {
      "provenance": [],
      "include_colab_link": true
    },
    "kernelspec": {
      "name": "python3",
      "display_name": "Python 3"
    },
    "language_info": {
      "name": "python"
    }
  },
  "cells": [
    {
      "cell_type": "markdown",
      "metadata": {
        "id": "view-in-github",
        "colab_type": "text"
      },
      "source": [
        "<a href=\"https://colab.research.google.com/github/hizieun/ToTheTransformer/blob/main/_02_torch_basic.ipynb\" target=\"_parent\"><img src=\"https://colab.research.google.com/assets/colab-badge.svg\" alt=\"Open In Colab\"/></a>"
      ]
    },
    {
      "cell_type": "markdown",
      "source": [
        "## numpy와 닮은 파이토치 (pytorch)"
      ],
      "metadata": {
        "id": "lvNb634JHNYQ"
      }
    },
    {
      "cell_type": "code",
      "source": [
        "import torch\n",
        "a=torch.tensor([1,2,3,4]) # list가 입력으로 들어가는 함수\n",
        "print(a)\n",
        "print(type(a))\n",
        "print(a.dtype) # data type\n",
        "print(a.shape)\n",
        "b=torch.tensor([1,2,3.1,4])\n",
        "print(b.dtype) # 하나라도 실수면 자동으로 실수 타입으로\n",
        "print(b) # 전부 실수로 바뀜"
      ],
      "metadata": {
        "id": "br-odZSmEpFl",
        "colab": {
          "base_uri": "https://localhost:8080/"
        },
        "outputId": "da0ce4c6-43a1-4f3d-92f9-66e02383c3a5"
      },
      "execution_count": null,
      "outputs": [
        {
          "output_type": "stream",
          "name": "stdout",
          "text": [
            "tensor([1, 2, 3, 4])\n",
            "<class 'torch.Tensor'>\n",
            "torch.int64\n",
            "torch.Size([4])\n",
            "torch.float32\n",
            "tensor([1.0000, 2.0000, 3.1000, 4.0000])\n"
          ]
        }
      ]
    },
    {
      "cell_type": "code",
      "source": [
        "A=torch.tensor([[1,2,3],[3,4,5]]) # 이 셀부터는 import torch 는 실행했다 치고 작성 -> 2행3열\n",
        "# A=torch.tensor([ [1,2], [3,4,5] ]) # 에러 : 리스트와는 달리 이제는 행렬이라서 각 행에 해당하는 숫자의 개수가 같아야 함\n",
        "print(A)\n",
        "print(A.shape)\n",
        "print(A.ndim) # 차원의 수 (전체 파라미터 개수 파악에 사용)\n",
        "print(A.numel()) # 전체 성분의 수 (number of element)"
      ],
      "metadata": {
        "id": "EHfP8YTiLwgv",
        "colab": {
          "base_uri": "https://localhost:8080/"
        },
        "outputId": "7d254dd1-d939-440c-c541-459e506226f2"
      },
      "execution_count": null,
      "outputs": [
        {
          "output_type": "stream",
          "name": "stdout",
          "text": [
            "tensor([[1, 2, 3],\n",
            "        [3, 4, 5]])\n",
            "torch.Size([2, 3])\n",
            "2\n",
            "6\n"
          ]
        }
      ]
    },
    {
      "cell_type": "code",
      "source": [
        "print(torch.zeros(5))\n",
        "print(torch.zeros_like(A)) # A와 같은 영행렬\n",
        "print(torch.ones(5))\n",
        "print(torch.zeros( 3,3 ) )\n",
        "print(torch.arange(3,10,2)) # range랑 같은데 tensor로 만들어줌\n",
        "print(torch.arange(0,1,0.1)) # 소수점 가능\n",
        "print(torch.linspace(0,1,10)) # 0 에서부터 1 포함 10개로"
      ],
      "metadata": {
        "id": "VG7Egd2cHhRh",
        "colab": {
          "base_uri": "https://localhost:8080/"
        },
        "outputId": "c9e99df5-0f9a-4f6a-96c9-8ae3f0d7ce8f"
      },
      "execution_count": null,
      "outputs": [
        {
          "output_type": "stream",
          "name": "stdout",
          "text": [
            "tensor([0., 0., 0., 0., 0.])\n",
            "tensor([[0, 0, 0],\n",
            "        [0, 0, 0]])\n",
            "tensor([1., 1., 1., 1., 1.])\n",
            "tensor([[0., 0., 0.],\n",
            "        [0., 0., 0.],\n",
            "        [0., 0., 0.]])\n",
            "tensor([3, 5, 7, 9])\n",
            "tensor([0.0000, 0.1000, 0.2000, 0.3000, 0.4000, 0.5000, 0.6000, 0.7000, 0.8000,\n",
            "        0.9000])\n",
            "tensor([0.0000, 0.1111, 0.2222, 0.3333, 0.4444, 0.5556, 0.6667, 0.7778, 0.8889,\n",
            "        1.0000])\n"
          ]
        }
      ]
    },
    {
      "cell_type": "code",
      "source": [
        "a=torch.tensor([1,2,3])\n",
        "b=torch.tensor([4,5,6])\n",
        "c=a+b\n",
        "print(c)"
      ],
      "metadata": {
        "id": "eWABbpjAHhRh",
        "colab": {
          "base_uri": "https://localhost:8080/"
        },
        "outputId": "44a7b4b8-b9ec-4077-c259-fb27d823aa36"
      },
      "execution_count": null,
      "outputs": [
        {
          "output_type": "stream",
          "name": "stdout",
          "text": [
            "tensor([5, 7, 9])\n"
          ]
        }
      ]
    },
    {
      "cell_type": "code",
      "source": [
        "[1,2,3]+[4,5,6] # 리스트의 덧셈은 append"
      ],
      "metadata": {
        "colab": {
          "base_uri": "https://localhost:8080/"
        },
        "id": "19wod_BOM-D5",
        "outputId": "04c8e048-779e-4aef-9942-463776a64d80"
      },
      "execution_count": null,
      "outputs": [
        {
          "output_type": "execute_result",
          "data": {
            "text/plain": [
              "[1, 2, 3, 4, 5, 6]"
            ]
          },
          "metadata": {},
          "execution_count": 102
        }
      ]
    },
    {
      "cell_type": "code",
      "source": [
        "A=torch.tensor([[1,2,3],[1,2,3]])\n",
        "B=torch.tensor([[4,5,6],[1,1,1]])\n",
        "C=A+B\n",
        "D=A-B\n",
        "print(C)\n",
        "print(D)\n",
        "print()\n",
        "print(A*B) # 곱셈은? 성분끼리의 곱! (Hadamard product)\n",
        "print(A/B) # 나누기도 마찬가지\n",
        "print(B**2) # 제곱도 각 성분에 대해서 해준다"
      ],
      "metadata": {
        "id": "wvEF1uw_HhRh",
        "colab": {
          "base_uri": "https://localhost:8080/"
        },
        "outputId": "d5d27a09-fda3-425f-c55e-bc291200fb2c"
      },
      "execution_count": null,
      "outputs": [
        {
          "output_type": "stream",
          "name": "stdout",
          "text": [
            "tensor([[5, 7, 9],\n",
            "        [2, 3, 4]])\n",
            "tensor([[-3, -3, -3],\n",
            "        [ 0,  1,  2]])\n",
            "\n",
            "tensor([[ 4, 10, 18],\n",
            "        [ 1,  2,  3]])\n",
            "tensor([[0.2500, 0.4000, 0.5000],\n",
            "        [1.0000, 2.0000, 3.0000]])\n",
            "tensor([[16, 25, 36],\n",
            "        [ 1,  1,  1]])\n"
          ]
        }
      ]
    },
    {
      "cell_type": "code",
      "source": [
        "A=torch.tensor([[1,2],[3,4]])\n",
        "B=torch.tensor([[1,2],[3,4]])\n",
        "print(A*B) # 성분끼리의 곱\n",
        "print(A@B) # 이게 진짜 행렬 곱하기"
      ],
      "metadata": {
        "id": "G_lVXqZEHhRh",
        "colab": {
          "base_uri": "https://localhost:8080/"
        },
        "outputId": "b8d74023-5cea-4e5d-9946-d15c824974a8"
      },
      "execution_count": null,
      "outputs": [
        {
          "output_type": "stream",
          "name": "stdout",
          "text": [
            "tensor([[ 1,  4],\n",
            "        [ 9, 16]])\n",
            "tensor([[ 7, 10],\n",
            "        [15, 22]])\n"
          ]
        }
      ]
    },
    {
      "cell_type": "markdown",
      "source": [
        "## pytorch 의 인덱싱과 슬라이싱"
      ],
      "metadata": {
        "id": "besorR-GNQIa"
      }
    },
    {
      "cell_type": "code",
      "source": [
        "a=torch.tensor([1,2,3,4,5,6,7,8,9])\n",
        "# 인덱싱과 슬라이싱, list할 때와 동일!\n",
        "print(a[0])\n",
        "print(a[1])\n",
        "print(a[-1])\n",
        "print(a[1:4]) # 1번쨰부터 4번째 미만까지\n",
        "print(a[7:])\n",
        "print(a[:7])\n",
        "print(a[:])"
      ],
      "metadata": {
        "id": "-lkV1IvDNQIf",
        "colab": {
          "base_uri": "https://localhost:8080/"
        },
        "outputId": "1769bd54-677f-437c-bf8b-6b8a02a6e678"
      },
      "execution_count": null,
      "outputs": [
        {
          "output_type": "stream",
          "name": "stdout",
          "text": [
            "tensor(1)\n",
            "tensor(2)\n",
            "tensor(9)\n",
            "tensor([2, 3, 4])\n",
            "tensor([8, 9])\n",
            "tensor([1, 2, 3, 4, 5, 6, 7])\n",
            "tensor([1, 2, 3, 4, 5, 6, 7, 8, 9])\n"
          ]
        }
      ]
    },
    {
      "cell_type": "code",
      "source": [
        "# 행렬에 대한 인덱싱과 슬라이싱\n",
        "A=torch.tensor([[1,2,3],[4,5,6],[7,8,9]])\n",
        "print(A[0]) # 하나만 쓰면 행에 대한 인덱싱 (리스트 속 리스트 생각)\n",
        "print(A[-1])\n",
        "print(A[1:])\n",
        "print(A[:])\n",
        "print(A[0][2])\n",
        "print(A[0,2]) # 2차원 행렬도 동일한데, 리스트와 달리 이런 것도 됨\n",
        "B=[[1,2,3,4], [5,6,7,8]]\n",
        "print(B)\n",
        "print(B[0][2])\n",
        "# print(B[0,2]) # error!\n",
        "print(A[1,:]) # 1 행, 전부\n",
        "print(A[1,0:3:2])\n",
        "print(A[:,2]) # 전부(모든행), 2 열\n",
        "print(A[:][2]) # A[:]==A -> A[2]와 같다"
      ],
      "metadata": {
        "colab": {
          "base_uri": "https://localhost:8080/"
        },
        "outputId": "4d565af8-0f11-4d92-b4bf-ccaa98cbd254",
        "id": "4UGNhyBwNQIg"
      },
      "execution_count": null,
      "outputs": [
        {
          "output_type": "stream",
          "name": "stdout",
          "text": [
            "tensor([1, 2, 3])\n",
            "tensor([7, 8, 9])\n",
            "tensor([[4, 5, 6],\n",
            "        [7, 8, 9]])\n",
            "tensor([[1, 2, 3],\n",
            "        [4, 5, 6],\n",
            "        [7, 8, 9]])\n",
            "tensor(3)\n",
            "tensor(3)\n",
            "[[1, 2, 3, 4], [5, 6, 7, 8]]\n",
            "3\n",
            "tensor([4, 5, 6])\n",
            "tensor([4, 6])\n",
            "tensor([3, 6, 9])\n",
            "tensor([7, 8, 9])\n"
          ]
        }
      ]
    },
    {
      "cell_type": "code",
      "source": [
        "# 3차원 행렬 인덱싱\n",
        "A=torch.tensor([ [[0,1,2,3],[4,5,6,7],[8,9,10,11]] ,\n",
        "                 [[12,13,14,15],[16,17,18,19],[20,21,22,23]] ])\n",
        "print(A)\n",
        "print(A.shape)\n",
        "print(A[0,1,2])\n",
        "\n",
        "a=torch.tensor([[[1,2,3,4]]]) # 바깥 대괄호가 하나 늘어나면 왼쪽에 shape 값이 추가 된다.\n",
        "print(a.shape)\n",
        "b=torch.tensor([[[[1,2,3,4]]]]) # 바깥 대괄호가 하나 늘어나면 왼쪽에 shape 값이 추가 된다.\n",
        "print(b.shape)"
      ],
      "metadata": {
        "colab": {
          "base_uri": "https://localhost:8080/"
        },
        "id": "idV7OinmOMMp",
        "outputId": "b0037bd1-835c-411d-89d0-b11334f34f30"
      },
      "execution_count": null,
      "outputs": [
        {
          "output_type": "stream",
          "name": "stdout",
          "text": [
            "tensor([[[ 0,  1,  2,  3],\n",
            "         [ 4,  5,  6,  7],\n",
            "         [ 8,  9, 10, 11]],\n",
            "\n",
            "        [[12, 13, 14, 15],\n",
            "         [16, 17, 18, 19],\n",
            "         [20, 21, 22, 23]]])\n",
            "torch.Size([2, 3, 4])\n",
            "tensor(6)\n",
            "torch.Size([1, 1, 4])\n",
            "torch.Size([1, 1, 1, 4])\n"
          ]
        }
      ]
    },
    {
      "cell_type": "code",
      "source": [
        "# boolean 인덱싱\n",
        "a=[1,2,3,4,5,3,3]\n",
        "print(a==3) # 여러개 값 들어있는 리스트랑 3 달랑 하나랑 같냐? 다르다!\n",
        "A=torch.tensor([[1,2,3,4],[5,3,7,3]])\n",
        "print(A==3) # 리스트와 달리 각 성분에 대해 비교해 줌\n",
        "print(A[A==3]) # True, False가 담긴 행렬로 인덱싱 가능!!\n",
        "\n",
        "A[A>3] = 100\n",
        "print(A) # 그러면 이런 것도 가능하다! (3보다 큰 애들을 100으로 바꿔줘)\n",
        "\n",
        "A=torch.tensor([[1,2],[3,4],[5,6],[7,8]])\n",
        "B=torch.tensor([True, False, False, True]) # 참고로 그냥 리스트여도 됨\n",
        "print(A[B,:]) # 0행, 3행 슬라이싱\n",
        "\n",
        "b=torch.tensor([1,2,3,4])\n",
        "print(b[ [True,True,False,False] ])\n",
        "c=[1,2,3,4]\n",
        "# c[[True,True,False,False]] # error! (리스트에서는 안됨)"
      ],
      "metadata": {
        "colab": {
          "base_uri": "https://localhost:8080/"
        },
        "outputId": "b42d1bab-6cf1-4dba-d58c-0a2062e23c62",
        "id": "-H29UkQPNQIg"
      },
      "execution_count": null,
      "outputs": [
        {
          "output_type": "stream",
          "name": "stdout",
          "text": [
            "False\n",
            "tensor([[False, False,  True, False],\n",
            "        [False,  True, False,  True]])\n",
            "tensor([3, 3, 3])\n",
            "tensor([[  1,   2,   3, 100],\n",
            "        [100,   3, 100,   3]])\n",
            "tensor([[1, 2],\n",
            "        [7, 8]])\n",
            "tensor([1, 2])\n"
          ]
        }
      ]
    },
    {
      "cell_type": "code",
      "source": [
        "# tensor로 인덱싱\n",
        "a=torch.tensor([1,2,3,4,5])\n",
        "A=a[2]\n",
        "print(A)\n",
        "A=a[ torch.tensor(2) ] # torch.tensor를 안에다가?\n",
        "print(A)\n",
        "A=a[ torch.tensor([2,3,4]) ]\n",
        "print(A)\n",
        "A=a[ torch.tensor([[2,2,2],[3,3,3]]) ]\n",
        "print(A) # 인덱싱된 애들로 2행 3열짜리 행렬을 만든다\n",
        "\n",
        "a=[1,2,3]\n",
        "# a[ [1,1,1,1,2,2,2] ] # error! (리스트에서는 안됨)\n",
        "\n",
        "a=torch.tensor([[1,2,3],[4,5,6]])\n",
        "print(a[ torch.tensor(0) ])\n",
        "A=a[ torch.tensor([[0,1],[1,1]]) ] # 0=[1,2,3], 1=[4,5,6] 으로 대체\n",
        "print(A.shape) # 예를 들어, a[0] = tensor([1,2,3])과 같이 1차원 데이터이므로 한 차원이 뒤에 늘어나서 2,2, \"3\" 이 된다!\n",
        "print(A) # segmentation 결과 그림 보여줄 때 사용!"
      ],
      "metadata": {
        "colab": {
          "base_uri": "https://localhost:8080/"
        },
        "id": "a0azbkyAOOJh",
        "outputId": "8d02c997-4a6a-492b-ce84-2c9f6c6a466b"
      },
      "execution_count": null,
      "outputs": [
        {
          "output_type": "stream",
          "name": "stdout",
          "text": [
            "tensor(3)\n",
            "tensor(3)\n",
            "tensor([3, 4, 5])\n",
            "tensor([[3, 3, 3],\n",
            "        [4, 4, 4]])\n",
            "tensor([1, 2, 3])\n",
            "torch.Size([2, 2, 3])\n",
            "tensor([[[1, 2, 3],\n",
            "         [4, 5, 6]],\n",
            "\n",
            "        [[4, 5, 6],\n",
            "         [4, 5, 6]]])\n"
          ]
        }
      ]
    },
    {
      "cell_type": "code",
      "source": [
        "A=torch.tensor([[1,2],[3,4],[5,6],[7,8]])\n",
        "print(A)\n",
        "print(A.shape)\n",
        "\n",
        "# 1. A[몇 번째 행이냐, 몇 번째 열이냐]\n",
        "print(A[0,1])\n",
        "# 2. A[ tensor(bool) ] => A와 같은 shape을 가지는 tensor형 bool이 어디에 True를 가지고 있냐\n",
        "print(A[ torch.tensor([[False,True],[False,False],[False,False],[False,False]]) ])\n",
        "print(A[A==2])\n",
        "# 3. A[몇 번째 값에 True가 있냐, 몇 번째 값에 True가 있냐]\n",
        "print(A[[True,False,False,False],[False,True]])\n",
        "# 4. A[ tensor ] # 몇 번째 것을 어떻게 쌓을거냐\n",
        "print(A[ torch.tensor([1,1,2,2,2]) ])\n",
        "\n",
        "\n",
        "# 연습\n",
        "print(A[[True,False,False,False],[False,False]])"
      ],
      "metadata": {
        "colab": {
          "base_uri": "https://localhost:8080/"
        },
        "id": "xj9-z9hp7JAf",
        "outputId": "c2a72db3-0c73-4408-c4c3-8eea2515b56b"
      },
      "execution_count": null,
      "outputs": [
        {
          "output_type": "stream",
          "name": "stdout",
          "text": [
            "tensor([[1, 2],\n",
            "        [3, 4],\n",
            "        [5, 6],\n",
            "        [7, 8]])\n",
            "torch.Size([4, 2])\n",
            "tensor(2)\n",
            "tensor([2])\n",
            "tensor([2])\n",
            "tensor([2])\n",
            "tensor([[3, 4],\n",
            "        [3, 4],\n",
            "        [5, 6],\n",
            "        [5, 6],\n",
            "        [5, 6]])\n",
            "tensor([], dtype=torch.int64)\n"
          ]
        }
      ]
    },
    {
      "cell_type": "markdown",
      "source": [
        "## pytorch 의 여러 함수들"
      ],
      "metadata": {
        "id": "zm4-ctNFNpQA"
      }
    },
    {
      "cell_type": "code",
      "source": [
        "A=torch.randn(3,3) # Normal 의 n\n",
        "# 평균이 3이면 분산이 9\n",
        "B=torch.rand(3,3) # 이건 uniform\n",
        "print(A)\n",
        "print(B)\n",
        "# print(A[A[:,0]<0,:]) # 0 번째 열이 음수인 행들"
      ],
      "metadata": {
        "colab": {
          "base_uri": "https://localhost:8080/"
        },
        "outputId": "c35e142b-b28a-491b-a8b6-2eb3cb0d1c4d",
        "id": "ettY2DigNpQG"
      },
      "execution_count": null,
      "outputs": [
        {
          "output_type": "stream",
          "name": "stdout",
          "text": [
            "tensor([[-2.6730,  1.5390,  1.0120],\n",
            "        [ 0.9631, -2.1025,  0.2329],\n",
            "        [ 2.3019, -1.2247,  0.0696]])\n",
            "tensor([[0.5958, 0.2669, 0.6116],\n",
            "        [0.1812, 0.0356, 0.3896],\n",
            "        [0.6425, 0.3116, 0.6947]])\n"
          ]
        }
      ]
    },
    {
      "cell_type": "code",
      "source": [
        "A=torch.randn(3,3)\n",
        "print(A)\n",
        "print(torch.abs(A))\n",
        "print(torch.sqrt(torch.abs(A)))\n",
        "print(torch.exp(A))\n",
        "print(torch.log(torch.abs(A)))\n",
        "print(torch.log(torch.exp(torch.tensor(1)))) # torch.exp(torch.tensor(1)) = e^1\n",
        "print(torch.log10(torch.tensor(10)))\n",
        "print(torch.log2(torch.tensor(2)))\n",
        "print(torch.round(A)) # 반올림\n",
        "print(torch.round(A,decimals=2)) # 소수점 둘째자리까지\n",
        "print(torch.floor(A)) # 내림\n",
        "print(torch.ceil(A)) # 올림"
      ],
      "metadata": {
        "colab": {
          "base_uri": "https://localhost:8080/"
        },
        "outputId": "6e2bdc30-83d1-4a48-a658-6642f0f9f221",
        "id": "MJ2YnFDlNpQG"
      },
      "execution_count": null,
      "outputs": [
        {
          "output_type": "stream",
          "name": "stdout",
          "text": [
            "tensor([[ 1.3492, -0.0448,  0.3178],\n",
            "        [-1.1098,  0.7016, -0.4227],\n",
            "        [-0.0459, -1.1708,  0.1875]])\n",
            "tensor([[1.3492, 0.0448, 0.3178],\n",
            "        [1.1098, 0.7016, 0.4227],\n",
            "        [0.0459, 1.1708, 0.1875]])\n",
            "tensor([[1.1615, 0.2118, 0.5637],\n",
            "        [1.0535, 0.8376, 0.6502],\n",
            "        [0.2141, 1.0820, 0.4330]])\n",
            "tensor([[3.8541, 0.9561, 1.3740],\n",
            "        [0.3296, 2.0171, 0.6553],\n",
            "        [0.9552, 0.3101, 1.2063]])\n",
            "tensor([[ 0.2995, -3.1046, -1.1465],\n",
            "        [ 0.1041, -0.3543, -0.8610],\n",
            "        [-3.0822,  0.1577, -1.6739]])\n",
            "tensor(1.)\n",
            "tensor(1.)\n",
            "tensor(1.)\n",
            "tensor([[ 1., -0.,  0.],\n",
            "        [-1.,  1., -0.],\n",
            "        [-0., -1.,  0.]])\n",
            "tensor([[ 1.3500, -0.0400,  0.3200],\n",
            "        [-1.1100,  0.7000, -0.4200],\n",
            "        [-0.0500, -1.1700,  0.1900]])\n",
            "tensor([[ 1., -1.,  0.],\n",
            "        [-2.,  0., -1.],\n",
            "        [-1., -2.,  0.]])\n",
            "tensor([[ 2., -0.,  1.],\n",
            "        [-1.,  1., -0.],\n",
            "        [-0., -1.,  1.]])\n"
          ]
        }
      ]
    },
    {
      "cell_type": "code",
      "source": [
        "print(torch.sin(torch.tensor(torch.pi/6))) # type(torch.pi) <- float임! 만약 tensor와 연산하면 tensor로 바꿔줌\n",
        "print(torch.cos(torch.tensor(torch.pi/3)))\n",
        "print(torch.tan(torch.tensor(torch.pi/4)))\n",
        "print(torch.tanh(torch.tensor(-10)))\n",
        "\n",
        "type(torch.tensor(1)/6)"
      ],
      "metadata": {
        "colab": {
          "base_uri": "https://localhost:8080/"
        },
        "outputId": "fc18e082-a1d4-40f3-f082-1fe6c8505372",
        "id": "m7I5-t79NpQG"
      },
      "execution_count": null,
      "outputs": [
        {
          "output_type": "stream",
          "name": "stdout",
          "text": [
            "tensor(0.5000)\n",
            "tensor(0.5000)\n",
            "tensor(1.)\n",
            "tensor(-1.)\n"
          ]
        },
        {
          "output_type": "execute_result",
          "data": {
            "text/plain": [
              "torch.Tensor"
            ]
          },
          "metadata": {},
          "execution_count": 113
        }
      ]
    },
    {
      "cell_type": "code",
      "source": [
        "torch.nan # not a number\n",
        "print(torch.log(torch.tensor(-1)))\n",
        "print(torch.isnan(torch.tensor([1,2,torch.nan,3,4])))\n",
        "print(torch.isinf(torch.tensor([1,2,3,4,torch.inf])))"
      ],
      "metadata": {
        "colab": {
          "base_uri": "https://localhost:8080/"
        },
        "outputId": "e17e9fcb-d886-4192-9537-65efbd36a1a0",
        "id": "CC7FdF-bNpQH"
      },
      "execution_count": null,
      "outputs": [
        {
          "output_type": "stream",
          "name": "stdout",
          "text": [
            "tensor(nan)\n",
            "tensor([False, False,  True, False, False])\n",
            "tensor([False, False, False, False,  True])\n"
          ]
        }
      ]
    },
    {
      "cell_type": "code",
      "source": [
        "A=torch.randn(3,4) # dim=0 = 행, dim=1 = 열\n",
        "print(A)\n",
        "print(torch.max(A))\n",
        "print(torch.max(A,dim=0)) # 3개중에 비교. shape으로 파악하기!\n",
        "print(torch.max(A,dim=1)) # 1D tensor로 바꿔버림. 4개중에 비교. shape으로 파악하기!\n",
        "print(torch.max(A,dim=0, keepdims=True))\n",
        "print(torch.max(A,dim=1, keepdims=True)) # 3 행 1열 짜리 2D tensor\n",
        "print(torch.min(A))\n",
        "print(torch.min(A,dim=0))\n",
        "print(torch.min(A,dim=1))\n",
        "print(torch.argmax(A))\n",
        "print(torch.argmax(A,dim=0)) # 각 열에서 가장 큰 애가 존재하는 인덱스\n",
        "print(torch.argmax(A,dim=1)) # 각 행에서 가장 큰 애가 존재하는 인덱스"
      ],
      "metadata": {
        "colab": {
          "base_uri": "https://localhost:8080/"
        },
        "outputId": "a4974ace-3e3f-4497-e435-cc85b0a3855d",
        "id": "GgWQTdynNpQH"
      },
      "execution_count": null,
      "outputs": [
        {
          "output_type": "stream",
          "name": "stdout",
          "text": [
            "tensor([[-0.5279, -1.3572, -2.6653, -0.8981],\n",
            "        [ 0.1319,  0.9423,  2.4317,  0.9078],\n",
            "        [ 0.8975, -0.0293, -0.2428, -0.2617]])\n",
            "tensor(2.4317)\n",
            "torch.return_types.max(\n",
            "values=tensor([0.8975, 0.9423, 2.4317, 0.9078]),\n",
            "indices=tensor([2, 1, 1, 1]))\n",
            "torch.return_types.max(\n",
            "values=tensor([-0.5279,  2.4317,  0.8975]),\n",
            "indices=tensor([0, 2, 0]))\n",
            "torch.return_types.max(\n",
            "values=tensor([[0.8975, 0.9423, 2.4317, 0.9078]]),\n",
            "indices=tensor([[2, 1, 1, 1]]))\n",
            "torch.return_types.max(\n",
            "values=tensor([[-0.5279],\n",
            "        [ 2.4317],\n",
            "        [ 0.8975]]),\n",
            "indices=tensor([[0],\n",
            "        [2],\n",
            "        [0]]))\n",
            "tensor(-2.6653)\n",
            "torch.return_types.min(\n",
            "values=tensor([-0.5279, -1.3572, -2.6653, -0.8981]),\n",
            "indices=tensor([0, 0, 0, 0]))\n",
            "torch.return_types.min(\n",
            "values=tensor([-2.6653,  0.1319, -0.2617]),\n",
            "indices=tensor([2, 0, 3]))\n",
            "tensor(6)\n",
            "tensor([2, 1, 1, 1])\n",
            "tensor([0, 2, 0])\n"
          ]
        }
      ]
    },
    {
      "cell_type": "code",
      "source": [
        "a=torch.randn(6,1)\n",
        "print(a)\n",
        "a_sorted=torch.sort(a,dim=0) # torch의 sort, vs a.sort\n",
        "print(a_sorted)\n",
        "\n",
        "a=torch.randn(6,1) # 텐서를 만듬\n",
        "print(a)\n",
        "print(a.sort(dim=0)) # a에 대한 sort\n",
        "print(a.sort(dim=0, descending=True))\n",
        "\n",
        "print(torch.max(a))\n",
        "print(a.max())\n",
        "print(torch.abs(a))\n",
        "print(a.abs())"
      ],
      "metadata": {
        "id": "tPkZS_0MvEMU",
        "colab": {
          "base_uri": "https://localhost:8080/"
        },
        "outputId": "e04a1dbf-fa18-4a8d-c8fa-db38b7ffaf89"
      },
      "execution_count": null,
      "outputs": [
        {
          "output_type": "stream",
          "name": "stdout",
          "text": [
            "tensor([[ 1.1793],\n",
            "        [ 0.6923],\n",
            "        [ 0.1586],\n",
            "        [ 0.9747],\n",
            "        [-1.5217],\n",
            "        [-0.0915]])\n",
            "torch.return_types.sort(\n",
            "values=tensor([[-1.5217],\n",
            "        [-0.0915],\n",
            "        [ 0.1586],\n",
            "        [ 0.6923],\n",
            "        [ 0.9747],\n",
            "        [ 1.1793]]),\n",
            "indices=tensor([[4],\n",
            "        [5],\n",
            "        [2],\n",
            "        [1],\n",
            "        [3],\n",
            "        [0]]))\n",
            "tensor([[-2.3348],\n",
            "        [ 0.6622],\n",
            "        [ 0.3935],\n",
            "        [ 1.4107],\n",
            "        [-0.1663],\n",
            "        [ 3.1260]])\n",
            "torch.return_types.sort(\n",
            "values=tensor([[-2.3348],\n",
            "        [-0.1663],\n",
            "        [ 0.3935],\n",
            "        [ 0.6622],\n",
            "        [ 1.4107],\n",
            "        [ 3.1260]]),\n",
            "indices=tensor([[0],\n",
            "        [4],\n",
            "        [2],\n",
            "        [1],\n",
            "        [3],\n",
            "        [5]]))\n",
            "torch.return_types.sort(\n",
            "values=tensor([[ 3.1260],\n",
            "        [ 1.4107],\n",
            "        [ 0.6622],\n",
            "        [ 0.3935],\n",
            "        [-0.1663],\n",
            "        [-2.3348]]),\n",
            "indices=tensor([[5],\n",
            "        [3],\n",
            "        [1],\n",
            "        [2],\n",
            "        [4],\n",
            "        [0]]))\n",
            "tensor(3.1260)\n",
            "tensor(3.1260)\n",
            "tensor([[2.3348],\n",
            "        [0.6622],\n",
            "        [0.3935],\n",
            "        [1.4107],\n",
            "        [0.1663],\n",
            "        [3.1260]])\n",
            "tensor([[2.3348],\n",
            "        [0.6622],\n",
            "        [0.3935],\n",
            "        [1.4107],\n",
            "        [0.1663],\n",
            "        [3.1260]])\n"
          ]
        }
      ]
    },
    {
      "cell_type": "code",
      "source": [
        "A=torch.randn(3,4)\n",
        "print(A)\n",
        "print(torch.sum(A))\n",
        "print(torch.sum(A,dim=1))\n",
        "print(torch.sum(A,dim=1,keepdims=True))\n",
        "print(torch.mean(A))\n",
        "print(torch.mean(A,dim=1))\n",
        "print(torch.mean(A,dim=1,keepdims=True))\n",
        "print(torch.std(A)) # standard deviation 표준 편차\n",
        "\n",
        "print(A.sum(dim=1, keepdims=True))\n",
        "print(A.mean(dim=1, keepdims=True))\n",
        "print(A.std())"
      ],
      "metadata": {
        "colab": {
          "base_uri": "https://localhost:8080/"
        },
        "outputId": "f4890391-8726-466b-fc35-f81bc4c454dc",
        "id": "jUdsNQ0jNpQH"
      },
      "execution_count": null,
      "outputs": [
        {
          "output_type": "stream",
          "name": "stdout",
          "text": [
            "tensor([[-0.2081, -1.0358,  0.4478, -0.5920],\n",
            "        [ 0.0118, -0.2812,  0.7937,  0.0045],\n",
            "        [ 1.7506, -1.3883, -1.0139, -0.3141]])\n",
            "tensor(-1.8251)\n",
            "tensor([-1.3881,  0.5287, -0.9657])\n",
            "tensor([[-1.3881],\n",
            "        [ 0.5287],\n",
            "        [-0.9657]])\n",
            "tensor(-0.1521)\n",
            "tensor([-0.3470,  0.1322, -0.2414])\n",
            "tensor([[-0.3470],\n",
            "        [ 0.1322],\n",
            "        [-0.2414]])\n",
            "tensor(0.8643)\n",
            "tensor([[-1.3881],\n",
            "        [ 0.5287],\n",
            "        [-0.9657]])\n",
            "tensor([[-0.3470],\n",
            "        [ 0.1322],\n",
            "        [-0.2414]])\n",
            "tensor(0.8643)\n"
          ]
        }
      ]
    },
    {
      "cell_type": "code",
      "source": [
        "A=torch.randint(1,5,size=(12,)) # 1부터 5미만 12개 정수 (1 차원은 (N,) 과 같이 표현)\n",
        "print(A)\n",
        "print(A.shape)\n",
        "\n",
        "B=A.reshape(2,2,3) # 채행렬\n",
        "print(B)\n",
        "print(B.ndim) # 3 차원 행렬이다"
      ],
      "metadata": {
        "colab": {
          "base_uri": "https://localhost:8080/"
        },
        "outputId": "18756fe9-ae62-43b1-d9fb-822e9a8e89c3",
        "id": "xF3r4Y1ENpQH"
      },
      "execution_count": null,
      "outputs": [
        {
          "output_type": "stream",
          "name": "stdout",
          "text": [
            "tensor([3, 4, 3, 1, 1, 1, 2, 1, 4, 3, 1, 1])\n",
            "torch.Size([12])\n",
            "tensor([[[3, 4, 3],\n",
            "         [1, 1, 1]],\n",
            "\n",
            "        [[2, 1, 4],\n",
            "         [3, 1, 1]]])\n",
            "3\n"
          ]
        }
      ]
    },
    {
      "cell_type": "code",
      "source": [
        "a=torch.tensor([1,2,3])\n",
        "b=torch.tensor([2,2,1])\n",
        "print(torch.sum(a*b))\n",
        "\n",
        "a=a.reshape(3,1)\n",
        "b=b.reshape(3,1)\n",
        "print(a.transpose(1,0)@b)\n",
        "print(a.permute(1,0)@b)\n",
        "print(a.T@b)\n",
        "print(a.t()@b)\n",
        "\n",
        "A=torch.randn(4,3,6)\n",
        "print(A.permute(0,2,1).shape) # 정상상태=0,1,2. 1번째와 2번째 서로 바꿔줘\n",
        "print(A.transpose(2,1).shape) # transpose 는 둘끼리 자리 바꾸기만 가능"
      ],
      "metadata": {
        "colab": {
          "base_uri": "https://localhost:8080/"
        },
        "outputId": "dec8b356-593a-4c77-bc51-d8e0b6cb21b9",
        "id": "qZcId-_mNpQH"
      },
      "execution_count": null,
      "outputs": [
        {
          "output_type": "stream",
          "name": "stdout",
          "text": [
            "tensor(9)\n",
            "tensor([[9]])\n",
            "tensor([[9]])\n",
            "tensor([[9]])\n",
            "tensor([[9]])\n",
            "torch.Size([4, 6, 3])\n",
            "torch.Size([4, 6, 3])\n"
          ]
        }
      ]
    },
    {
      "cell_type": "code",
      "source": [
        "A=torch.arange(20,)\n",
        "print(A)\n",
        "print(A.reshape(4,5))\n",
        "print(A.reshape(4,-1).shape) # 4개 행이 되도록 열의 수를 맞춰준다! 알아서 채워줘\n",
        "print(A.reshape(2,5,-1).shape)\n",
        "print(A.reshape(2,-1,5).shape)\n",
        "print(A.reshape(1,-1).shape) # 2차원 행 벡터\n",
        "print(A.reshape(-1,1).shape) # 2차원 열 벡터"
      ],
      "metadata": {
        "colab": {
          "base_uri": "https://localhost:8080/"
        },
        "outputId": "4217386c-d297-4dec-f304-ecb4cb2d810d",
        "id": "Q-Hy52wlNpQH"
      },
      "execution_count": null,
      "outputs": [
        {
          "output_type": "stream",
          "name": "stdout",
          "text": [
            "tensor([ 0,  1,  2,  3,  4,  5,  6,  7,  8,  9, 10, 11, 12, 13, 14, 15, 16, 17,\n",
            "        18, 19])\n",
            "tensor([[ 0,  1,  2,  3,  4],\n",
            "        [ 5,  6,  7,  8,  9],\n",
            "        [10, 11, 12, 13, 14],\n",
            "        [15, 16, 17, 18, 19]])\n",
            "torch.Size([4, 5])\n",
            "torch.Size([2, 5, 2])\n",
            "torch.Size([2, 2, 5])\n",
            "torch.Size([1, 20])\n",
            "torch.Size([20, 1])\n"
          ]
        }
      ]
    },
    {
      "cell_type": "code",
      "source": [
        "x=torch.randn(2,3,4,5,6)\n",
        "# print(x)\n",
        "print(x[1,2,:,:,:].shape)\n",
        "print(x[1,2,...].shape) # x[1, 2, …] 는 x[1, 2, :, :, :] 와 같습니다.\n",
        "print(x[:,:,:,:,3].shape)\n",
        "print(x[...,3].shape) # x[…, 3] 는 x[:, :, :, :, 3] 와 같습니다.\n",
        "print(x[1,:,:,3,:].shape)\n",
        "print(x[1,...,3,:].shape) # x[1, …, 3, :] 는 x[1, :, :, 3, :] 와 같습니다."
      ],
      "metadata": {
        "colab": {
          "base_uri": "https://localhost:8080/"
        },
        "outputId": "1cfa3ea0-ef27-4b45-8389-588eab454c8d",
        "id": "LbH1bkCbNpQH"
      },
      "execution_count": null,
      "outputs": [
        {
          "output_type": "stream",
          "name": "stdout",
          "text": [
            "torch.Size([4, 5, 6])\n",
            "torch.Size([4, 5, 6])\n",
            "torch.Size([2, 3, 4, 5])\n",
            "torch.Size([2, 3, 4, 5])\n",
            "torch.Size([3, 4, 6])\n",
            "torch.Size([3, 4, 6])\n"
          ]
        }
      ]
    },
    {
      "cell_type": "code",
      "source": [
        "A=torch.ones(3,4)\n",
        "B=torch.zeros(3,4)\n",
        "C=torch.vstack([A,B])\n",
        "D=torch.hstack([A,B]) # v는 0번째 차원, h는 1번째 차원에 쌓는다. (A,B 사이즈 (2,3,4)로 추가 해보기)\n",
        "E=torch.cat([A,B],dim=0)\n",
        "F=torch.cat([A,B],dim=1)\n",
        "\n",
        "print(C)\n",
        "print(D)\n",
        "print(E)\n",
        "print(F) # 3X8"
      ],
      "metadata": {
        "colab": {
          "base_uri": "https://localhost:8080/"
        },
        "outputId": "d103748c-d597-4ed9-b8d5-f53ca8762ca8",
        "id": "6siD2dMfNpQI"
      },
      "execution_count": null,
      "outputs": [
        {
          "output_type": "stream",
          "name": "stdout",
          "text": [
            "tensor([[1., 1., 1., 1.],\n",
            "        [1., 1., 1., 1.],\n",
            "        [1., 1., 1., 1.],\n",
            "        [0., 0., 0., 0.],\n",
            "        [0., 0., 0., 0.],\n",
            "        [0., 0., 0., 0.]])\n",
            "tensor([[1., 1., 1., 1., 0., 0., 0., 0.],\n",
            "        [1., 1., 1., 1., 0., 0., 0., 0.],\n",
            "        [1., 1., 1., 1., 0., 0., 0., 0.]])\n",
            "tensor([[1., 1., 1., 1.],\n",
            "        [1., 1., 1., 1.],\n",
            "        [1., 1., 1., 1.],\n",
            "        [0., 0., 0., 0.],\n",
            "        [0., 0., 0., 0.],\n",
            "        [0., 0., 0., 0.]])\n",
            "tensor([[1., 1., 1., 1., 0., 0., 0., 0.],\n",
            "        [1., 1., 1., 1., 0., 0., 0., 0.],\n",
            "        [1., 1., 1., 1., 0., 0., 0., 0.]])\n"
          ]
        }
      ]
    },
    {
      "cell_type": "code",
      "source": [
        "A=torch.randn(1,1,1,3,1,1,1,4,1,1,1)\n",
        "# print(A)\n",
        "print(A.shape)\n",
        "print(A.squeeze().shape)\n",
        "print(A.squeeze(dim=(0,2,4,5)).shape)"
      ],
      "metadata": {
        "colab": {
          "base_uri": "https://localhost:8080/"
        },
        "id": "UmgVsO_U8oxQ",
        "outputId": "980c3a71-dd21-4e8f-90a2-0d2ab3965a68"
      },
      "execution_count": null,
      "outputs": [
        {
          "output_type": "stream",
          "name": "stdout",
          "text": [
            "torch.Size([1, 1, 1, 3, 1, 1, 1, 4, 1, 1, 1])\n",
            "torch.Size([3, 4])\n",
            "torch.Size([1, 3, 1, 4, 1, 1, 1])\n"
          ]
        }
      ]
    },
    {
      "cell_type": "code",
      "source": [
        "A = torch.randn(3,4)\n",
        "print(A.unsqueeze(dim=0).shape)\n",
        "print(A.unsqueeze(dim=1).shape)\n",
        "print(A.unsqueeze(dim=2).shape)\n",
        "print(A.reshape(1,3,4).shape)\n",
        "print(A.reshape(3,1,4).shape)\n",
        "print(A.reshape(3,4,1).shape)"
      ],
      "metadata": {
        "colab": {
          "base_uri": "https://localhost:8080/"
        },
        "id": "g5Ee_pSB4rPx",
        "outputId": "31629d0a-31f0-48d8-ab17-15576c1890c3"
      },
      "execution_count": null,
      "outputs": [
        {
          "output_type": "stream",
          "name": "stdout",
          "text": [
            "torch.Size([1, 3, 4])\n",
            "torch.Size([3, 1, 4])\n",
            "torch.Size([3, 4, 1])\n",
            "torch.Size([1, 3, 4])\n",
            "torch.Size([3, 1, 4])\n",
            "torch.Size([3, 4, 1])\n"
          ]
        }
      ]
    },
    {
      "cell_type": "code",
      "source": [
        "A=torch.ones(3,4)\n",
        "B=torch.zeros(3,4)\n",
        "A=A.unsqueeze(dim=0)\n",
        "B=B.unsqueeze(dim=0)\n",
        "C=torch.cat([A,B], dim=0)\n",
        "print(C)\n",
        "print(C.shape)"
      ],
      "metadata": {
        "colab": {
          "base_uri": "https://localhost:8080/"
        },
        "id": "L1Y6R4ittk1w",
        "outputId": "cb6db886-edd2-4164-fddd-82a38e5e76be"
      },
      "execution_count": null,
      "outputs": [
        {
          "output_type": "stream",
          "name": "stdout",
          "text": [
            "tensor([[[1., 1., 1., 1.],\n",
            "         [1., 1., 1., 1.],\n",
            "         [1., 1., 1., 1.]],\n",
            "\n",
            "        [[0., 0., 0., 0.],\n",
            "         [0., 0., 0., 0.],\n",
            "         [0., 0., 0., 0.]]])\n",
            "torch.Size([2, 3, 4])\n"
          ]
        }
      ]
    },
    {
      "cell_type": "code",
      "source": [
        "A=torch.tensor([[1,2],[3,4]])\n",
        "B=A.clone() # 주소값은 다름\n",
        "B[0,0]=100\n",
        "\n",
        "print(B)\n",
        "print(A)"
      ],
      "metadata": {
        "colab": {
          "base_uri": "https://localhost:8080/"
        },
        "id": "pw5SvtjNo7r2",
        "outputId": "0b449950-7f45-43e2-e274-0a7dc1daae44"
      },
      "execution_count": null,
      "outputs": [
        {
          "output_type": "stream",
          "name": "stdout",
          "text": [
            "tensor([[100,   2],\n",
            "        [  3,   4]])\n",
            "tensor([[1, 2],\n",
            "        [3, 4]])\n"
          ]
        }
      ]
    },
    {
      "cell_type": "markdown",
      "source": [
        "## @ 에 대해 좀만 더"
      ],
      "metadata": {
        "id": "yLRiCEbpywDi"
      }
    },
    {
      "cell_type": "code",
      "source": [
        "A=torch.randn(5,7)\n",
        "B=torch.randn(7,10)\n",
        "C=A@B\n",
        "print(C.shape)\n",
        "\n",
        "A=torch.randn(32,5,7)\n",
        "B=torch.randn(32,7,10)\n",
        "C=A@B\n",
        "print(C.shape)"
      ],
      "metadata": {
        "colab": {
          "base_uri": "https://localhost:8080/"
        },
        "id": "ImSTUbNgyxz7",
        "outputId": "014b7dc9-ee09-4393-b333-1e2d235784c3"
      },
      "execution_count": null,
      "outputs": [
        {
          "output_type": "stream",
          "name": "stdout",
          "text": [
            "torch.Size([5, 10])\n",
            "torch.Size([32, 5, 10])\n"
          ]
        }
      ]
    },
    {
      "cell_type": "code",
      "source": [
        "A=torch.randn(32,5,7)\n",
        "B=torch.randn(7,10)\n",
        "\n",
        "C=A@B.repeat(32,1,1)\n",
        "D=A@B\n",
        "\n",
        "print(C.shape)\n",
        "print(D.shape)\n",
        "print((C-D).abs().max())"
      ],
      "metadata": {
        "colab": {
          "base_uri": "https://localhost:8080/"
        },
        "id": "o0GUPmfJzDp0",
        "outputId": "938fa5ac-1620-4b69-bc72-5c928de20c4f"
      },
      "execution_count": null,
      "outputs": [
        {
          "output_type": "stream",
          "name": "stdout",
          "text": [
            "torch.Size([32, 5, 10])\n",
            "torch.Size([32, 5, 10])\n",
            "tensor(9.5367e-07)\n"
          ]
        }
      ]
    },
    {
      "cell_type": "code",
      "source": [
        "A = torch.rand(2,3)\n",
        "A_repeat=A.repeat(3,1,3,2) # 3개짜리를 두 번 반복, 3개짜리를 3번 반복,\n",
        "print(A)\n",
        "print(A_repeat)\n",
        "print(A_repeat.shape)"
      ],
      "metadata": {
        "colab": {
          "base_uri": "https://localhost:8080/"
        },
        "id": "itXmZnnUAY5N",
        "outputId": "5125efca-fc1f-4bcb-9d33-4aece4637478"
      },
      "execution_count": null,
      "outputs": [
        {
          "output_type": "stream",
          "name": "stdout",
          "text": [
            "tensor([[0.6253, 0.9933, 0.4809],\n",
            "        [0.0868, 0.3342, 0.3104]])\n",
            "tensor([[[[0.6253, 0.9933, 0.4809, 0.6253, 0.9933, 0.4809],\n",
            "          [0.0868, 0.3342, 0.3104, 0.0868, 0.3342, 0.3104],\n",
            "          [0.6253, 0.9933, 0.4809, 0.6253, 0.9933, 0.4809],\n",
            "          [0.0868, 0.3342, 0.3104, 0.0868, 0.3342, 0.3104],\n",
            "          [0.6253, 0.9933, 0.4809, 0.6253, 0.9933, 0.4809],\n",
            "          [0.0868, 0.3342, 0.3104, 0.0868, 0.3342, 0.3104]]],\n",
            "\n",
            "\n",
            "        [[[0.6253, 0.9933, 0.4809, 0.6253, 0.9933, 0.4809],\n",
            "          [0.0868, 0.3342, 0.3104, 0.0868, 0.3342, 0.3104],\n",
            "          [0.6253, 0.9933, 0.4809, 0.6253, 0.9933, 0.4809],\n",
            "          [0.0868, 0.3342, 0.3104, 0.0868, 0.3342, 0.3104],\n",
            "          [0.6253, 0.9933, 0.4809, 0.6253, 0.9933, 0.4809],\n",
            "          [0.0868, 0.3342, 0.3104, 0.0868, 0.3342, 0.3104]]],\n",
            "\n",
            "\n",
            "        [[[0.6253, 0.9933, 0.4809, 0.6253, 0.9933, 0.4809],\n",
            "          [0.0868, 0.3342, 0.3104, 0.0868, 0.3342, 0.3104],\n",
            "          [0.6253, 0.9933, 0.4809, 0.6253, 0.9933, 0.4809],\n",
            "          [0.0868, 0.3342, 0.3104, 0.0868, 0.3342, 0.3104],\n",
            "          [0.6253, 0.9933, 0.4809, 0.6253, 0.9933, 0.4809],\n",
            "          [0.0868, 0.3342, 0.3104, 0.0868, 0.3342, 0.3104]]]])\n",
            "torch.Size([3, 1, 6, 6])\n"
          ]
        }
      ]
    },
    {
      "cell_type": "markdown",
      "source": [
        "## numpy <-> torch 왔다갔다 가능"
      ],
      "metadata": {
        "id": "6L4TSO42N-zF"
      }
    },
    {
      "cell_type": "code",
      "source": [
        "import numpy as np\n",
        "import torch\n",
        "\n",
        "a=np.array([1,2,3])\n",
        "b=torch.tensor([1,2,3])\n",
        "A=torch.tensor(a) # A=torch.from_numpy(a) (각각 6대4 비율로 torch.tensor(a)를 더 자주 사용)\n",
        "B=b.numpy() # B=np.array(b)\n",
        "print(type(A))\n",
        "print(type(B))"
      ],
      "metadata": {
        "id": "C6bYHh1-HhRh",
        "colab": {
          "base_uri": "https://localhost:8080/"
        },
        "outputId": "c76a6ae1-1876-4284-bde7-e4a363aa5d1b"
      },
      "execution_count": null,
      "outputs": [
        {
          "output_type": "stream",
          "name": "stdout",
          "text": [
            "<class 'torch.Tensor'>\n",
            "<class 'numpy.ndarray'>\n"
          ]
        }
      ]
    },
    {
      "cell_type": "markdown",
      "source": [
        "## 딥러닝을 가능케한 autograd"
      ],
      "metadata": {
        "id": "VZviHAE_Paoc"
      }
    },
    {
      "cell_type": "code",
      "source": [
        "x=torch.tensor([1.],requires_grad=True) # float 이여야해서 1.\n",
        "# requires_grad=True : x로 미분한 결과를 구하겠다\n",
        "print(x)"
      ],
      "metadata": {
        "id": "5pPk_FVNPZ8i",
        "colab": {
          "base_uri": "https://localhost:8080/"
        },
        "outputId": "8cf598d6-e094-4c45-abf0-f5909f730576"
      },
      "execution_count": null,
      "outputs": [
        {
          "output_type": "stream",
          "name": "stdout",
          "text": [
            "tensor([1.], requires_grad=True)\n"
          ]
        }
      ]
    },
    {
      "cell_type": "code",
      "source": [
        "x=torch.tensor([1.])\n",
        "print(x)\n",
        "print(x.requires_grad)\n",
        "\n",
        "x.requires_grad=True\n",
        "print(x)\n",
        "print(x.requires_grad)"
      ],
      "metadata": {
        "id": "Qn8UTwD6_g5N",
        "colab": {
          "base_uri": "https://localhost:8080/"
        },
        "outputId": "5d8faead-707b-43a0-f3b0-3e2eeb39c879"
      },
      "execution_count": null,
      "outputs": [
        {
          "output_type": "stream",
          "name": "stdout",
          "text": [
            "tensor([1.])\n",
            "False\n",
            "tensor([1.], requires_grad=True)\n",
            "True\n"
          ]
        }
      ]
    },
    {
      "cell_type": "code",
      "source": [
        "x=torch.tensor([1.],requires_grad=True)\n",
        "y=x**2\n",
        "print(y) # PowBackward0 가 붙어있다! backward 결과값을 위해 tracking 기록함\n",
        "\n",
        "print(x.grad)\n",
        "y.backward() # 핵심!! 이 때 미분을 실행함\n",
        "print(x.grad) # y=x**2을 미분한 2x의 x 값에 1을 대입한 gradient 값. lookuptable을 한 결과이기 때문에 명확한 답이 나옴"
      ],
      "metadata": {
        "id": "zhHKmFGm_yKt",
        "colab": {
          "base_uri": "https://localhost:8080/"
        },
        "outputId": "ef196adf-77f2-4ac8-8dd9-2a7490f46b5f"
      },
      "execution_count": null,
      "outputs": [
        {
          "output_type": "stream",
          "name": "stdout",
          "text": [
            "tensor([1.], grad_fn=<PowBackward0>)\n",
            "None\n",
            "tensor([2.])\n"
          ]
        }
      ]
    },
    {
      "cell_type": "code",
      "source": [
        "x=torch.tensor([1.], requires_grad=True)\n",
        "y=x**2\n",
        "print(y)\n",
        "# y.retain_grad() # 이걸 하면 y.grad도 볼 수 있다\n",
        "\n",
        "z=3*y\n",
        "print(z) # MulBackward0 가 붙어있다! (마지막 연산만 붙어있음)\n",
        "\n",
        "z.backward()\n",
        "print(x.grad) # chain rule로 알아냄\n",
        "# print(y.grad) # warning! 중간건 안된다"
      ],
      "metadata": {
        "id": "Zf8zLsIdAFMz",
        "colab": {
          "base_uri": "https://localhost:8080/"
        },
        "outputId": "702c009b-84e5-474c-af9e-5f26955ed04e"
      },
      "execution_count": null,
      "outputs": [
        {
          "output_type": "stream",
          "name": "stdout",
          "text": [
            "tensor([1.], grad_fn=<PowBackward0>)\n",
            "tensor([3.], grad_fn=<MulBackward0>)\n",
            "tensor([6.])\n"
          ]
        }
      ]
    },
    {
      "cell_type": "code",
      "source": [
        "x=torch.tensor([1.], requires_grad=True)\n",
        "y=x**2\n",
        "z=3*y\n",
        "\n",
        "y.backward() # 이렇게하면 y에서부터 뒤로 넘어감 (backward!)\n",
        "print(x.grad)"
      ],
      "metadata": {
        "id": "7gel19cTAyg2",
        "colab": {
          "base_uri": "https://localhost:8080/"
        },
        "outputId": "3162be17-d123-4584-be49-c3bffa592f0f"
      },
      "execution_count": null,
      "outputs": [
        {
          "output_type": "stream",
          "name": "stdout",
          "text": [
            "tensor([2.])\n"
          ]
        }
      ]
    },
    {
      "cell_type": "code",
      "source": [
        "x=torch.tensor([1.], requires_grad=True)\n",
        "a=x**2\n",
        "b=a+1\n",
        "print(b) # AddBackward0 가 붙어있다!\n",
        "c=b**2\n",
        "c.backward()\n",
        "print(x.grad)"
      ],
      "metadata": {
        "id": "zsYJrM1wiPGo",
        "colab": {
          "base_uri": "https://localhost:8080/"
        },
        "outputId": "eaa6de53-f6f0-4549-bac2-1a50f6de82b5"
      },
      "execution_count": null,
      "outputs": [
        {
          "output_type": "stream",
          "name": "stdout",
          "text": [
            "tensor([2.], grad_fn=<AddBackward0>)\n",
            "tensor([8.])\n"
          ]
        }
      ]
    },
    {
      "cell_type": "code",
      "source": [
        "x=torch.tensor([1.],requires_grad=True)\n",
        "y=torch.tensor([1.],requires_grad=True)\n",
        "z= 2*x**2 + y**2\n",
        "print(z)\n",
        "z.backward()\n",
        "print(x.grad)\n",
        "print(y.grad)"
      ],
      "metadata": {
        "id": "cV5d0q1w_59z",
        "colab": {
          "base_uri": "https://localhost:8080/"
        },
        "outputId": "f828c414-3083-47f6-9e14-8b0671111164"
      },
      "execution_count": null,
      "outputs": [
        {
          "output_type": "stream",
          "name": "stdout",
          "text": [
            "tensor([3.], grad_fn=<AddBackward0>)\n",
            "tensor([4.])\n",
            "tensor([2.])\n"
          ]
        }
      ]
    },
    {
      "cell_type": "code",
      "source": [
        "x=torch.tensor([1.],requires_grad=True)\n",
        "y=torch.tensor([1.],requires_grad=True)\n",
        "z= y*x**2\n",
        "z.backward()\n",
        "print(x.grad)\n",
        "print(y.grad)"
      ],
      "metadata": {
        "id": "rZLlg-zABE_a",
        "colab": {
          "base_uri": "https://localhost:8080/"
        },
        "outputId": "5895ba63-0b2e-4844-b7bd-6c253e53deac"
      },
      "execution_count": null,
      "outputs": [
        {
          "output_type": "stream",
          "name": "stdout",
          "text": [
            "tensor([2.])\n",
            "tensor([1.])\n"
          ]
        }
      ]
    },
    {
      "cell_type": "code",
      "source": [
        "x=torch.tensor([1., 2., 3.] ,requires_grad=True)\n",
        "y=torch.sum(x**2) # x1**2 + x2**2 + x3**2\n",
        "y.backward()\n",
        "\n",
        "print(y)\n",
        "print(x.grad) # 스칼라를 벡터로 미분"
      ],
      "metadata": {
        "id": "yzCj78r5Kjio",
        "colab": {
          "base_uri": "https://localhost:8080/"
        },
        "outputId": "eaaa4cff-5f81-42d9-f8cf-d09633762e64"
      },
      "execution_count": null,
      "outputs": [
        {
          "output_type": "stream",
          "name": "stdout",
          "text": [
            "tensor(14., grad_fn=<SumBackward0>)\n",
            "tensor([2., 4., 6.])\n"
          ]
        }
      ]
    },
    {
      "cell_type": "code",
      "source": [
        "x=torch.tensor([1.] ,requires_grad=True)\n",
        "x.requires_grad=False\n",
        "# transfer learning 할 때 필요\n",
        "y=x**2\n",
        "print(y)\n",
        "# y.backward() # error!"
      ],
      "metadata": {
        "id": "kGK9xoEICN9y",
        "colab": {
          "base_uri": "https://localhost:8080/"
        },
        "outputId": "b17e7886-f741-4a74-b38a-56314e0b68ac"
      },
      "execution_count": null,
      "outputs": [
        {
          "output_type": "stream",
          "name": "stdout",
          "text": [
            "tensor([1.])\n"
          ]
        }
      ]
    },
    {
      "cell_type": "code",
      "source": [
        "x=torch.tensor([2.] ,requires_grad=True)\n",
        "x=x.detach() # detach도 많이 쓰이는 듯\n",
        "# 윗 셀과 차이점은 데이터는 공유하지만 requires_grad는 다르게 지정이 가능하다는 점\n",
        "print(x)\n",
        "y=x**2\n",
        "print(y)"
      ],
      "metadata": {
        "id": "L9GjlyLkCZPS",
        "colab": {
          "base_uri": "https://localhost:8080/"
        },
        "outputId": "61a30562-2b6d-4f6b-805f-0b04095ae809"
      },
      "execution_count": null,
      "outputs": [
        {
          "output_type": "stream",
          "name": "stdout",
          "text": [
            "tensor([2.])\n",
            "tensor([4.])\n"
          ]
        }
      ]
    },
    {
      "cell_type": "code",
      "source": [
        "# detach 와 torch.no_grad\n",
        "x=torch.tensor([1.], requires_grad=True)\n",
        "# chain rule을 위해 계속 grad_fn을 update 하니까 grad_fn 잠시 안 계산하고 싶을 때 torch.no_grad\n",
        "# 모델 테스트 시에는 불필요하게 메모리 쓸 필요 없기 때문!\n",
        "with torch.no_grad(): # 연산을 해도 트래킹하지 않겠다!(추론할 때 사용함)\n",
        "    y = x**2\n",
        "    print(x.requires_grad)\n",
        "    print(y) # with 안에서 계산되는 애는 grad_fn 이 안붙음\n",
        "print(x.requires_grad)\n",
        "# y.backward() # error!\n",
        "y=x**2\n",
        "print(y)\n",
        "\n",
        "x=torch.tensor([1.], requires_grad=True)\n",
        "x=x.detach()\n",
        "y = x**2\n",
        "print(x.requires_grad)\n",
        "print(y)\n",
        "# y.backward() # error!"
      ],
      "metadata": {
        "id": "N3CxsBcRlVgJ",
        "colab": {
          "base_uri": "https://localhost:8080/"
        },
        "outputId": "f875b03b-3485-4913-9731-418d4274e8ef"
      },
      "execution_count": null,
      "outputs": [
        {
          "output_type": "stream",
          "name": "stdout",
          "text": [
            "True\n",
            "tensor([1.])\n",
            "True\n",
            "tensor([1.], grad_fn=<PowBackward0>)\n",
            "False\n",
            "tensor([1.])\n"
          ]
        }
      ]
    },
    {
      "cell_type": "code",
      "source": [
        "x=torch.tensor([1.], requires_grad=True)\n",
        "y=torch.abs(x)\n",
        "y.backward()\n",
        "x.grad\n",
        "print(y)"
      ],
      "metadata": {
        "colab": {
          "base_uri": "https://localhost:8080/"
        },
        "id": "Z4imDKYiLVte",
        "outputId": "f23b904e-58bb-43a6-ae9a-81da3876e47e"
      },
      "execution_count": null,
      "outputs": [
        {
          "output_type": "stream",
          "name": "stdout",
          "text": [
            "tensor([1.], grad_fn=<AbsBackward0>)\n"
          ]
        }
      ]
    },
    {
      "cell_type": "code",
      "source": [
        "!pip install torchviz\n",
        "from torchviz import make_dot\n",
        "x=torch.tensor([1.],requires_grad=True)\n",
        "# make_dot(x)\n",
        "# make_dot(x**2)\n",
        "# make_dot(x**2+1)\n",
        "make_dot((x**2+1)**2)"
      ],
      "metadata": {
        "id": "L5Bk_1LQ_wO9",
        "colab": {
          "base_uri": "https://localhost:8080/",
          "height": 873
        },
        "outputId": "ec4a0caf-331b-46f7-f565-e0fd9964ac0c"
      },
      "execution_count": null,
      "outputs": [
        {
          "output_type": "stream",
          "name": "stdout",
          "text": [
            "Collecting torchviz\n",
            "  Downloading torchviz-0.0.2.tar.gz (4.9 kB)\n",
            "  Preparing metadata (setup.py) ... \u001b[?25l\u001b[?25hdone\n",
            "Requirement already satisfied: torch in /usr/local/lib/python3.10/dist-packages (from torchviz) (2.0.1+cu118)\n",
            "Requirement already satisfied: graphviz in /usr/local/lib/python3.10/dist-packages (from torchviz) (0.20.1)\n",
            "Requirement already satisfied: filelock in /usr/local/lib/python3.10/dist-packages (from torch->torchviz) (3.12.2)\n",
            "Requirement already satisfied: typing-extensions in /usr/local/lib/python3.10/dist-packages (from torch->torchviz) (4.5.0)\n",
            "Requirement already satisfied: sympy in /usr/local/lib/python3.10/dist-packages (from torch->torchviz) (1.12)\n",
            "Requirement already satisfied: networkx in /usr/local/lib/python3.10/dist-packages (from torch->torchviz) (3.1)\n",
            "Requirement already satisfied: jinja2 in /usr/local/lib/python3.10/dist-packages (from torch->torchviz) (3.1.2)\n",
            "Requirement already satisfied: triton==2.0.0 in /usr/local/lib/python3.10/dist-packages (from torch->torchviz) (2.0.0)\n",
            "Requirement already satisfied: cmake in /usr/local/lib/python3.10/dist-packages (from triton==2.0.0->torch->torchviz) (3.27.4.1)\n",
            "Requirement already satisfied: lit in /usr/local/lib/python3.10/dist-packages (from triton==2.0.0->torch->torchviz) (16.0.6)\n",
            "Requirement already satisfied: MarkupSafe>=2.0 in /usr/local/lib/python3.10/dist-packages (from jinja2->torch->torchviz) (2.1.3)\n",
            "Requirement already satisfied: mpmath>=0.19 in /usr/local/lib/python3.10/dist-packages (from sympy->torch->torchviz) (1.3.0)\n",
            "Building wheels for collected packages: torchviz\n",
            "  Building wheel for torchviz (setup.py) ... \u001b[?25l\u001b[?25hdone\n",
            "  Created wheel for torchviz: filename=torchviz-0.0.2-py3-none-any.whl size=4130 sha256=99534f639bd41e234782083ce47adfa831313e9552edd27f89c25669583418c4\n",
            "  Stored in directory: /root/.cache/pip/wheels/4c/97/88/a02973217949e0db0c9f4346d154085f4725f99c4f15a87094\n",
            "Successfully built torchviz\n",
            "Installing collected packages: torchviz\n",
            "Successfully installed torchviz-0.0.2\n"
          ]
        },
        {
          "output_type": "execute_result",
          "data": {
            "image/svg+xml": "<?xml version=\"1.0\" encoding=\"UTF-8\" standalone=\"no\"?>\n<!DOCTYPE svg PUBLIC \"-//W3C//DTD SVG 1.1//EN\"\n \"http://www.w3.org/Graphics/SVG/1.1/DTD/svg11.dtd\">\n<!-- Generated by graphviz version 2.43.0 (0)\n -->\n<!-- Title: %3 Pages: 1 -->\n<svg width=\"109pt\" height=\"326pt\"\n viewBox=\"0.00 0.00 109.00 326.00\" xmlns=\"http://www.w3.org/2000/svg\" xmlns:xlink=\"http://www.w3.org/1999/xlink\">\n<g id=\"graph0\" class=\"graph\" transform=\"scale(1 1) rotate(0) translate(4 322)\">\n<title>%3</title>\n<polygon fill=\"white\" stroke=\"transparent\" points=\"-4,4 -4,-322 105,-322 105,4 -4,4\"/>\n<!-- 135170915453424 -->\n<g id=\"node1\" class=\"node\">\n<title>135170915453424</title>\n<polygon fill=\"#caff70\" stroke=\"black\" points=\"77.5,-31 23.5,-31 23.5,0 77.5,0 77.5,-31\"/>\n<text text-anchor=\"middle\" x=\"50.5\" y=\"-7\" font-family=\"monospace\" font-size=\"10.00\"> (1)</text>\n</g>\n<!-- 135170916039792 -->\n<g id=\"node2\" class=\"node\">\n<title>135170916039792</title>\n<polygon fill=\"lightgrey\" stroke=\"black\" points=\"95,-86 6,-86 6,-67 95,-67 95,-86\"/>\n<text text-anchor=\"middle\" x=\"50.5\" y=\"-74\" font-family=\"monospace\" font-size=\"10.00\">PowBackward0</text>\n</g>\n<!-- 135170916039792&#45;&gt;135170915453424 -->\n<g id=\"edge5\" class=\"edge\">\n<title>135170916039792&#45;&gt;135170915453424</title>\n<path fill=\"none\" stroke=\"black\" d=\"M50.5,-66.79C50.5,-60.07 50.5,-50.4 50.5,-41.34\"/>\n<polygon fill=\"black\" stroke=\"black\" points=\"54,-41.19 50.5,-31.19 47,-41.19 54,-41.19\"/>\n</g>\n<!-- 135170916039408 -->\n<g id=\"node3\" class=\"node\">\n<title>135170916039408</title>\n<polygon fill=\"lightgrey\" stroke=\"black\" points=\"95,-141 6,-141 6,-122 95,-122 95,-141\"/>\n<text text-anchor=\"middle\" x=\"50.5\" y=\"-129\" font-family=\"monospace\" font-size=\"10.00\">AddBackward0</text>\n</g>\n<!-- 135170916039408&#45;&gt;135170916039792 -->\n<g id=\"edge1\" class=\"edge\">\n<title>135170916039408&#45;&gt;135170916039792</title>\n<path fill=\"none\" stroke=\"black\" d=\"M50.5,-121.75C50.5,-114.8 50.5,-104.85 50.5,-96.13\"/>\n<polygon fill=\"black\" stroke=\"black\" points=\"54,-96.09 50.5,-86.09 47,-96.09 54,-96.09\"/>\n</g>\n<!-- 135170916039552 -->\n<g id=\"node4\" class=\"node\">\n<title>135170916039552</title>\n<polygon fill=\"lightgrey\" stroke=\"black\" points=\"95,-196 6,-196 6,-177 95,-177 95,-196\"/>\n<text text-anchor=\"middle\" x=\"50.5\" y=\"-184\" font-family=\"monospace\" font-size=\"10.00\">PowBackward0</text>\n</g>\n<!-- 135170916039552&#45;&gt;135170916039408 -->\n<g id=\"edge2\" class=\"edge\">\n<title>135170916039552&#45;&gt;135170916039408</title>\n<path fill=\"none\" stroke=\"black\" d=\"M50.5,-176.75C50.5,-169.8 50.5,-159.85 50.5,-151.13\"/>\n<polygon fill=\"black\" stroke=\"black\" points=\"54,-151.09 50.5,-141.09 47,-151.09 54,-151.09\"/>\n</g>\n<!-- 135170916039648 -->\n<g id=\"node5\" class=\"node\">\n<title>135170916039648</title>\n<polygon fill=\"lightgrey\" stroke=\"black\" points=\"101,-251 0,-251 0,-232 101,-232 101,-251\"/>\n<text text-anchor=\"middle\" x=\"50.5\" y=\"-239\" font-family=\"monospace\" font-size=\"10.00\">AccumulateGrad</text>\n</g>\n<!-- 135170916039648&#45;&gt;135170916039552 -->\n<g id=\"edge3\" class=\"edge\">\n<title>135170916039648&#45;&gt;135170916039552</title>\n<path fill=\"none\" stroke=\"black\" d=\"M50.5,-231.75C50.5,-224.8 50.5,-214.85 50.5,-206.13\"/>\n<polygon fill=\"black\" stroke=\"black\" points=\"54,-206.09 50.5,-196.09 47,-206.09 54,-206.09\"/>\n</g>\n<!-- 135170915452144 -->\n<g id=\"node6\" class=\"node\">\n<title>135170915452144</title>\n<polygon fill=\"lightblue\" stroke=\"black\" points=\"77.5,-318 23.5,-318 23.5,-287 77.5,-287 77.5,-318\"/>\n<text text-anchor=\"middle\" x=\"50.5\" y=\"-294\" font-family=\"monospace\" font-size=\"10.00\"> (1)</text>\n</g>\n<!-- 135170915452144&#45;&gt;135170916039648 -->\n<g id=\"edge4\" class=\"edge\">\n<title>135170915452144&#45;&gt;135170916039648</title>\n<path fill=\"none\" stroke=\"black\" d=\"M50.5,-286.92C50.5,-279.22 50.5,-269.69 50.5,-261.43\"/>\n<polygon fill=\"black\" stroke=\"black\" points=\"54,-261.25 50.5,-251.25 47,-261.25 54,-261.25\"/>\n</g>\n</g>\n</svg>\n",
            "text/plain": [
              "<graphviz.graphs.Digraph at 0x7aefee6f3ca0>"
            ]
          },
          "metadata": {},
          "execution_count": 144
        }
      ]
    },
    {
      "cell_type": "markdown",
      "source": [
        "## 간단한 인공신경망 만들기"
      ],
      "metadata": {
        "id": "Ggv5j9GAI3xp"
      }
    },
    {
      "cell_type": "code",
      "source": [
        "import torch\n",
        "from torch import nn\n",
        "\n",
        "x=torch.tensor([1.])\n",
        "model=nn.Linear(1,1) # 입력 node 한 개, 출력 node 한 개인 layer 만듦\n",
        "print(model)\n",
        "\n",
        "print(model.weight) # 만들면서 initialize 함\n",
        "print(model.bias)\n",
        "\n",
        "y=model(x)\n",
        "print(y)\n",
        "\n",
        "y = x @ model.weight + model.bias\n",
        "print(y)"
      ],
      "metadata": {
        "id": "QVxicLquIvey",
        "colab": {
          "base_uri": "https://localhost:8080/"
        },
        "outputId": "76fcf05c-059c-4761-d58f-0f4910371da4"
      },
      "execution_count": null,
      "outputs": [
        {
          "output_type": "stream",
          "name": "stdout",
          "text": [
            "Linear(in_features=1, out_features=1, bias=True)\n",
            "Parameter containing:\n",
            "tensor([[-0.7411]], requires_grad=True)\n",
            "Parameter containing:\n",
            "tensor([-0.8435], requires_grad=True)\n",
            "tensor([-1.5846], grad_fn=<AddBackward0>)\n",
            "tensor([-1.5846], grad_fn=<AddBackward0>)\n"
          ]
        }
      ]
    },
    {
      "cell_type": "code",
      "source": [
        "fc1=nn.Linear(1,3) # fully-connected\n",
        "fc2=nn.Linear(3,1)\n",
        "\n",
        "print(fc1.weight) # 웨이트 3개\n",
        "print(fc1.bias)  # 바이어스 3개\n",
        "print(fc2.weight)  # 웨이트 1개\n",
        "print(fc2.bias)  # 바이어스 3개\n",
        "\n",
        "x=torch.tensor([1.])\n",
        "x=fc1(x)\n",
        "print(x)\n",
        "x=fc2(x)\n",
        "print(x)\n",
        "\n",
        "x = torch.tensor([1.])\n",
        "y = (x@fc1.weight.T + fc1.bias) @ fc2.weight.T + fc2.bias\n",
        "print(y)\n",
        "\n",
        "# input size: 1\n",
        "# fc1.weight.T size: 1x3\n",
        "# fc1.bias size: 3\n",
        "# fc2.weight.T size: 3x1\n",
        "# fc2.bias size: 1"
      ],
      "metadata": {
        "id": "jdzHUc5_dIG6",
        "colab": {
          "base_uri": "https://localhost:8080/"
        },
        "outputId": "6c698238-f21c-4dd1-dca1-d4db555f73a6"
      },
      "execution_count": null,
      "outputs": [
        {
          "output_type": "stream",
          "name": "stdout",
          "text": [
            "Parameter containing:\n",
            "tensor([[ 0.1197],\n",
            "        [-0.9855],\n",
            "        [-0.1457]], requires_grad=True)\n",
            "Parameter containing:\n",
            "tensor([-0.9401, -0.1207,  0.3485], requires_grad=True)\n",
            "Parameter containing:\n",
            "tensor([[-0.5177, -0.0967, -0.0245]], requires_grad=True)\n",
            "Parameter containing:\n",
            "tensor([0.2119], requires_grad=True)\n",
            "tensor([-0.8204, -1.1062,  0.2028], grad_fn=<AddBackward0>)\n",
            "tensor([0.7386], grad_fn=<AddBackward0>)\n",
            "tensor([0.7386], grad_fn=<AddBackward0>)\n"
          ]
        }
      ]
    },
    {
      "cell_type": "code",
      "source": [
        "model = nn.Linear(2,3)\n",
        "x = torch.randn(10,2)\n",
        "print(model(x)) # 3X10\n",
        "# nn.Linear는 \"채\" 형태로(1D data) 들어오길 기대하는 녀석이다\n",
        "# 즉, 노드 하나가 곧 한 채널을 의미한다.\n",
        "# 따라서, 데이터 여러개를 통과시키고 싶다면 개x채 의 형태로 줘야 함\n",
        "\n",
        "# why T? weight 도 데이터와 마찬가지로 개x채 형태로 만들기 위함!\n",
        "# 예를 들어, nn.Linear(2,3) 이면 두 채널 값을 가지고 3개의 노드를 만드는 것이라 3x2 가 된다!\n",
        "# 데이터의 개채는 두 채널 값 가지는 열개 데이터 (10x2)\n",
        "# 웨이트의 개채는 두 채널 값으로 세 개 노드 만들기 (3x2)"
      ],
      "metadata": {
        "id": "hVLox8B0uhya",
        "colab": {
          "base_uri": "https://localhost:8080/"
        },
        "outputId": "f403e360-73c0-48df-81ed-51c133103099"
      },
      "execution_count": null,
      "outputs": [
        {
          "output_type": "stream",
          "name": "stdout",
          "text": [
            "tensor([[-0.2867,  1.5272, -1.5495],\n",
            "        [ 1.0461, -0.2999,  0.7230],\n",
            "        [ 1.1066,  0.0801,  0.1837],\n",
            "        [-0.1450,  1.0806, -0.9578],\n",
            "        [ 1.2900,  0.7470, -0.7780],\n",
            "        [-1.3545,  1.2380, -0.9374],\n",
            "        [ 1.6680,  0.5823, -0.6240],\n",
            "        [ 1.4307, -0.5451,  0.9874],\n",
            "        [-0.1854,  1.1266, -1.0137],\n",
            "        [ 0.9348,  0.5077, -0.3758]], grad_fn=<AddmmBackward0>)\n"
          ]
        }
      ]
    },
    {
      "cell_type": "code",
      "source": [
        "fc1=nn.Linear(1,3)\n",
        "fc2=nn.Linear(3,1)\n",
        "\n",
        "x=torch.tensor([1.])\n",
        "x=fc1(x)\n",
        "print(x)\n",
        "x=fc2(x)\n",
        "print(x)\n",
        "\n",
        "model = nn.Sequential(fc1,fc2) # layer 풀칠\n",
        "x=torch.tensor([1.])\n",
        "print(model(x))"
      ],
      "metadata": {
        "id": "hXCNxF5-ITEg",
        "colab": {
          "base_uri": "https://localhost:8080/"
        },
        "outputId": "3214f96c-3f6b-462c-8b0e-3b1adac41342"
      },
      "execution_count": null,
      "outputs": [
        {
          "output_type": "stream",
          "name": "stdout",
          "text": [
            "tensor([-0.4165,  0.5242, -0.1845], grad_fn=<AddBackward0>)\n",
            "tensor([0.1299], grad_fn=<AddBackward0>)\n",
            "tensor([0.1299], grad_fn=<AddBackward0>)\n"
          ]
        }
      ]
    },
    {
      "cell_type": "code",
      "source": [
        "# 주로 이렇게 콤마로 이어서 사용함\n",
        "model = nn.Sequential(nn.Linear(2,5), # 여기는 채,채\n",
        "                      nn.Linear(5,10),\n",
        "                      nn.Linear(10,3))\n",
        "x=torch.randn(2)\n",
        "print(x)\n",
        "print(model(x))\n",
        "\n",
        "x=torch.randn(1,2)\n",
        "print(x)\n",
        "print(model(x))\n",
        "\n",
        "x=torch.randn(5,2) # 개x채 => 두 개의 채널 값(키, 몸무게)을 가지는 데이터(사람) 5개를 통과시킴\n",
        "print(x)\n",
        "print(model(x))\n",
        "\n",
        "x=torch.randn(2,3,1,4,5,2)\n",
        "print(model(x).shape)"
      ],
      "metadata": {
        "id": "NqWSWru_ITHH",
        "colab": {
          "base_uri": "https://localhost:8080/"
        },
        "outputId": "f27421fd-f0ce-4b5e-8973-9161ddc7a1e3"
      },
      "execution_count": null,
      "outputs": [
        {
          "output_type": "stream",
          "name": "stdout",
          "text": [
            "tensor([-0.4076, -1.3112])\n",
            "tensor([-0.1442,  0.6960, -0.3150], grad_fn=<AddBackward0>)\n",
            "tensor([[-1.7855,  0.8544]])\n",
            "tensor([[ 0.4372, -0.0213, -0.7313]], grad_fn=<AddmmBackward0>)\n",
            "tensor([[-0.8494,  0.3373],\n",
            "        [ 1.5188,  0.6162],\n",
            "        [-0.5632,  0.2370],\n",
            "        [ 0.0991,  0.5738],\n",
            "        [-0.3491, -1.0637]])\n",
            "tensor([[ 0.1973,  0.2429, -0.5548],\n",
            "        [-0.1516,  0.5398, -0.2851],\n",
            "        [ 0.1334,  0.3101, -0.5073],\n",
            "        [ 0.0779,  0.3326, -0.4607],\n",
            "        [-0.1137,  0.6471, -0.3352]], grad_fn=<AddmmBackward0>)\n",
            "torch.Size([2, 3, 1, 4, 5, 3])\n"
          ]
        }
      ]
    },
    {
      "cell_type": "code",
      "source": [
        "class MyModel(nn.Module):\n",
        "    def __init__(self):\n",
        "        super().__init__()\n",
        "\n",
        "        self.fc1 = nn.Linear(2,5)\n",
        "        self.fc2 = nn.Linear(5,10)\n",
        "        self.fc3 = nn.Linear(10,3)\n",
        "        self.act = nn.Sigmoid()\n",
        "\n",
        "    def forward(self, x): # 약속된 모듈. 통과시키는 규칙을 지정함\n",
        "        x = self.fc1(x)\n",
        "        x = self.act(x)\n",
        "        x = self.fc2(x)\n",
        "        x = self.act(x)\n",
        "        x = self.fc3(x)\n",
        "        x = self.act(x)\n",
        "        return x\n",
        "\n",
        "model = MyModel()\n",
        "x = torch.randn(5,2)\n",
        "y = model(x) # model.forward(x) : forward로 지정이 되어있어서, model로 불러와도 forward를 자동으로 불러옴\n",
        "print(y)"
      ],
      "metadata": {
        "id": "zoHhlvgtkojS",
        "colab": {
          "base_uri": "https://localhost:8080/"
        },
        "outputId": "8ee1c250-73e2-415a-b067-94d2d9580127"
      },
      "execution_count": null,
      "outputs": [
        {
          "output_type": "stream",
          "name": "stdout",
          "text": [
            "tensor([[0.4187, 0.5291, 0.5119],\n",
            "        [0.4251, 0.5296, 0.5122],\n",
            "        [0.4229, 0.5289, 0.5083],\n",
            "        [0.4242, 0.5292, 0.5102],\n",
            "        [0.4175, 0.5298, 0.5168]], grad_fn=<SigmoidBackward0>)\n"
          ]
        }
      ]
    },
    {
      "cell_type": "code",
      "source": [
        "print(model)\n",
        "print(model.fc1.weight) # attribute가 갖고있는 weight\n",
        "print(model.fc2.bias)"
      ],
      "metadata": {
        "id": "o7QHCRnKl_R6",
        "colab": {
          "base_uri": "https://localhost:8080/"
        },
        "outputId": "2c84d986-825e-4ba5-bc16-3de8d0cb909f"
      },
      "execution_count": null,
      "outputs": [
        {
          "output_type": "stream",
          "name": "stdout",
          "text": [
            "MyModel(\n",
            "  (fc1): Linear(in_features=2, out_features=5, bias=True)\n",
            "  (fc2): Linear(in_features=5, out_features=10, bias=True)\n",
            "  (fc3): Linear(in_features=10, out_features=3, bias=True)\n",
            "  (act): Sigmoid()\n",
            ")\n",
            "Parameter containing:\n",
            "tensor([[-0.6985, -0.0984],\n",
            "        [ 0.2212, -0.6863],\n",
            "        [-0.0262,  0.6452],\n",
            "        [-0.2991,  0.5655],\n",
            "        [ 0.6244, -0.5544]], requires_grad=True)\n",
            "Parameter containing:\n",
            "tensor([ 0.3899,  0.1252,  0.2429, -0.3007,  0.2622,  0.1763, -0.1888, -0.2332,\n",
            "        -0.1124,  0.0332], requires_grad=True)\n"
          ]
        }
      ]
    },
    {
      "cell_type": "code",
      "source": [
        "class MyModel2(nn.Module):\n",
        "    def __init__(self):\n",
        "        super().__init__()\n",
        "\n",
        "        self.linear = nn.Sequential(nn.Linear(2,5),\n",
        "                                    nn.Sigmoid(),\n",
        "                                    nn.Linear(5,10),\n",
        "                                    nn.Sigmoid(),\n",
        "                                    nn.Linear(10,3),\n",
        "                                    nn.Sigmoid())\n",
        "\n",
        "    def forward(self, x):\n",
        "        x = self.linear(x)\n",
        "        return x\n",
        "\n",
        "model2 = MyModel2()\n",
        "x = torch.randn(5,2) # 2개의 값을 갖는 5개의 데이터를 의미!\n",
        "y = model2(x)\n",
        "print(y)"
      ],
      "metadata": {
        "id": "Iyxzl7kpLMfF",
        "colab": {
          "base_uri": "https://localhost:8080/"
        },
        "outputId": "602a37dd-9858-4e42-c3e0-22ed7ad01829"
      },
      "execution_count": null,
      "outputs": [
        {
          "output_type": "stream",
          "name": "stdout",
          "text": [
            "tensor([[0.4565, 0.5623, 0.5345],\n",
            "        [0.4551, 0.5629, 0.5382],\n",
            "        [0.4540, 0.5608, 0.5353],\n",
            "        [0.4538, 0.5616, 0.5376],\n",
            "        [0.4547, 0.5611, 0.5349]], grad_fn=<SigmoidBackward0>)\n"
          ]
        }
      ]
    },
    {
      "cell_type": "code",
      "source": [
        "print(model2)\n",
        "print(model2.linear[0].weight) # 인덱싱하듯이 사용 가능\n",
        "print(model2.linear[-2].bias)\n",
        "# print(model2.linear[-1].bias) # 에러! 마지막 시그모이드층에는 웨이트,바이어스 아무것도 없음"
      ],
      "metadata": {
        "id": "YKDDoAfkmG8p",
        "colab": {
          "base_uri": "https://localhost:8080/"
        },
        "outputId": "86c10536-3fec-41a7-eb70-e84389bf5b62"
      },
      "execution_count": null,
      "outputs": [
        {
          "output_type": "stream",
          "name": "stdout",
          "text": [
            "MyModel2(\n",
            "  (linear): Sequential(\n",
            "    (0): Linear(in_features=2, out_features=5, bias=True)\n",
            "    (1): Sigmoid()\n",
            "    (2): Linear(in_features=5, out_features=10, bias=True)\n",
            "    (3): Sigmoid()\n",
            "    (4): Linear(in_features=10, out_features=3, bias=True)\n",
            "    (5): Sigmoid()\n",
            "  )\n",
            ")\n",
            "Parameter containing:\n",
            "tensor([[ 0.2467, -0.7056],\n",
            "        [ 0.4898,  0.6392],\n",
            "        [-0.6598, -0.1888],\n",
            "        [-0.4831,  0.0241],\n",
            "        [ 0.1559,  0.4736]], requires_grad=True)\n",
            "Parameter containing:\n",
            "tensor([-0.0202,  0.2066, -0.0747], requires_grad=True)\n"
          ]
        }
      ]
    },
    {
      "cell_type": "code",
      "source": [
        "model.parameters() # 제너레이터 자체\n",
        "list(model.parameters())[2] # 파라미터수 구할때 사용"
      ],
      "metadata": {
        "colab": {
          "base_uri": "https://localhost:8080/"
        },
        "id": "EORR8ClCham2",
        "outputId": "924facca-4f61-4db9-8477-07e31ddd992c"
      },
      "execution_count": null,
      "outputs": [
        {
          "output_type": "execute_result",
          "data": {
            "text/plain": [
              "Parameter containing:\n",
              "tensor([[ 0.4393, -0.2427,  0.0424, -0.2918,  0.3822],\n",
              "        [-0.1727, -0.1260, -0.3202, -0.4182,  0.0062],\n",
              "        [ 0.1035, -0.1407, -0.3954, -0.0146,  0.1173],\n",
              "        [ 0.0682,  0.2389,  0.0085,  0.1813,  0.3989],\n",
              "        [ 0.1954,  0.2550, -0.2950,  0.3511,  0.4261],\n",
              "        [-0.3694,  0.3827, -0.3100, -0.0258,  0.3182],\n",
              "        [-0.0936, -0.1477, -0.0430,  0.0781, -0.2099],\n",
              "        [ 0.4256, -0.4068, -0.2782,  0.0742,  0.0601],\n",
              "        [-0.3408,  0.1570,  0.1491,  0.3449, -0.3624],\n",
              "        [ 0.3465, -0.2139,  0.0052,  0.3006,  0.0571]], requires_grad=True)"
            ]
          },
          "metadata": {},
          "execution_count": 154
        }
      ]
    },
    {
      "cell_type": "code",
      "source": [
        "# 파라미터 수 구하기\n",
        "# p,numel() : 레이어별 파라미터수(두개씩 짝지어서 파악해야함)\n",
        "num = sum([p.numel() for p in model.parameters() if p.requires_grad])\n",
        "print(num)"
      ],
      "metadata": {
        "id": "RkrQl1KVmeMJ",
        "colab": {
          "base_uri": "https://localhost:8080/"
        },
        "outputId": "4fd9fa12-cb58-45a6-b0f0-ad1fc9710c48"
      },
      "execution_count": null,
      "outputs": [
        {
          "output_type": "stream",
          "name": "stdout",
          "text": [
            "108\n"
          ]
        }
      ]
    }
  ]
}