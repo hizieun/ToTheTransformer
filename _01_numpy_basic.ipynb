{
  "nbformat": 4,
  "nbformat_minor": 0,
  "metadata": {
    "colab": {
      "provenance": [],
      "include_colab_link": true
    },
    "kernelspec": {
      "name": "python3",
      "display_name": "Python 3"
    },
    "language_info": {
      "name": "python"
    }
  },
  "cells": [
    {
      "cell_type": "markdown",
      "metadata": {
        "id": "view-in-github",
        "colab_type": "text"
      },
      "source": [
        "<a href=\"https://colab.research.google.com/github/hizieun/ToTheTransformer/blob/main/_01_numpy_basic.ipynb\" target=\"_parent\"><img src=\"https://colab.research.google.com/assets/colab-badge.svg\" alt=\"Open In Colab\"/></a>"
      ]
    },
    {
      "cell_type": "markdown",
      "source": [
        "## 모듈과 패키지"
      ],
      "metadata": {
        "id": "ncGugkc-k2dB"
      }
    },
    {
      "cell_type": "code",
      "source": [
        "# 모듈은 변수, 함수, 클래스를 담고 있는 파일 (.py)\n",
        "# 패키지는 여러 모듈을 묶은 것 (폴더)\n",
        "# import 모듈\n",
        "# import 모듈1, 모듈2\n",
        "# 모듈.변수\n",
        "# 모듈.함수()\n",
        "# 모듈.클래스()"
      ],
      "metadata": {
        "id": "fgSr19tek4HK"
      },
      "execution_count": null,
      "outputs": []
    },
    {
      "cell_type": "code",
      "source": [
        "import math # math라는 모듈이 있어요\n",
        "print(math.pi)\n",
        "print(math.sqrt(4)) # sqrt는 제곱근 구해줌"
      ],
      "metadata": {
        "colab": {
          "base_uri": "https://localhost:8080/"
        },
        "id": "aGeXVCyXlC2S",
        "outputId": "ce60a20f-7dd9-4b7e-ca17-ce3b85a4999f"
      },
      "execution_count": null,
      "outputs": [
        {
          "output_type": "stream",
          "name": "stdout",
          "text": [
            "3.141592653589793\n",
            "2.0\n"
          ]
        }
      ]
    },
    {
      "cell_type": "code",
      "source": [
        "import math as m # math를 가져오는 데 m 이라는 이름으로 가져온다\n",
        "print(m.pi)\n",
        "print(m.sqrt(4))"
      ],
      "metadata": {
        "colab": {
          "base_uri": "https://localhost:8080/"
        },
        "id": "se3WfMGwwQBk",
        "outputId": "b1c0adb1-a5f7-4d7e-904b-c07e00e2dc56"
      },
      "execution_count": null,
      "outputs": [
        {
          "output_type": "stream",
          "name": "stdout",
          "text": [
            "3.141592653589793\n",
            "2.0\n"
          ]
        }
      ]
    },
    {
      "cell_type": "code",
      "source": [
        "from math import pi, sqrt\n",
        "print(pi) # math.pi 는 오히려 안됨\n",
        "print(sqrt(4))"
      ],
      "metadata": {
        "colab": {
          "base_uri": "https://localhost:8080/"
        },
        "id": "Nf7ndOTjwYdr",
        "outputId": "0bb1dea5-bc8a-4366-badd-acaa17f33c96"
      },
      "execution_count": null,
      "outputs": [
        {
          "output_type": "stream",
          "name": "stdout",
          "text": [
            "3.141592653589793\n",
            "2.0\n"
          ]
        }
      ]
    },
    {
      "cell_type": "code",
      "source": [
        "from math import * # * 이 all 이란 뜻\n",
        "print(pi)\n",
        "print(sqrt(4))\n",
        "print(sin(pi))"
      ],
      "metadata": {
        "colab": {
          "base_uri": "https://localhost:8080/"
        },
        "id": "DUnWDPLmxH9L",
        "outputId": "d9e0cb31-5a29-492c-ccb6-2d5d3f4bf17e"
      },
      "execution_count": null,
      "outputs": [
        {
          "output_type": "stream",
          "name": "stdout",
          "text": [
            "3.141592653589793\n",
            "2.0\n",
            "1.2246467991473532e-16\n"
          ]
        }
      ]
    },
    {
      "cell_type": "code",
      "source": [
        "from math import sqrt as s\n",
        "print(s(4))"
      ],
      "metadata": {
        "colab": {
          "base_uri": "https://localhost:8080/"
        },
        "id": "67eY84z4xOcD",
        "outputId": "a8b19ed8-b536-4f4c-a78c-2edc493ccd98"
      },
      "execution_count": null,
      "outputs": [
        {
          "output_type": "stream",
          "name": "stdout",
          "text": [
            "2.0\n"
          ]
        }
      ]
    },
    {
      "cell_type": "code",
      "source": [
        "from math import sqrt as s, pi as p\n",
        "print(p)\n",
        "print(s(4))"
      ],
      "metadata": {
        "colab": {
          "base_uri": "https://localhost:8080/"
        },
        "id": "WdGIaNm4xTtL",
        "outputId": "2eef11e4-4c45-40be-cd06-6c55e27f85ac"
      },
      "execution_count": null,
      "outputs": [
        {
          "output_type": "stream",
          "name": "stdout",
          "text": [
            "3.141592653589793\n",
            "2.0\n"
          ]
        }
      ]
    },
    {
      "cell_type": "code",
      "source": [
        "# import 패키지\n",
        "# import 패키지.모듈1\n",
        "# import 패키지.모듈1, 패키지.모듈2\n",
        "# 패키지.모듈.변수\n",
        "# 패키지.모듈.함수()\n",
        "# 패키지.모듈.클래스()"
      ],
      "metadata": {
        "id": "3NtPP0KjxlRE"
      },
      "execution_count": null,
      "outputs": []
    },
    {
      "cell_type": "code",
      "source": [
        "import numpy as np # numpy는 라이브러리(패키지와 모듈들을 모아놓음)다 (numerical python)\n",
        "a=np.array([1,2,3])\n",
        "a"
      ],
      "metadata": {
        "colab": {
          "base_uri": "https://localhost:8080/"
        },
        "id": "nrBmqBvJ8ILu",
        "outputId": "edf3d131-d0ba-41d3-ec3a-9de33a7897cf"
      },
      "execution_count": null,
      "outputs": [
        {
          "output_type": "execute_result",
          "data": {
            "text/plain": [
              "array([1, 2, 3])"
            ]
          },
          "metadata": {},
          "execution_count": 9
        }
      ]
    },
    {
      "cell_type": "code",
      "source": [
        "import numpy.random\n",
        "numpy.random.randn(3,3) # Normal distribution, (3,3)은 3행 3열 짜리를 의미"
      ],
      "metadata": {
        "colab": {
          "base_uri": "https://localhost:8080/"
        },
        "id": "0-EWmJJtyHwD",
        "outputId": "ee99e8aa-07e0-4bca-baf5-be4bf5c327a8"
      },
      "execution_count": null,
      "outputs": [
        {
          "output_type": "execute_result",
          "data": {
            "text/plain": [
              "array([[-0.42190351,  0.2104023 ,  1.60006693],\n",
              "       [ 1.96590546, -0.14412101, -0.15346252],\n",
              "       [ 0.74711708, -0.59222681,  0.10577433]])"
            ]
          },
          "metadata": {},
          "execution_count": 10
        }
      ]
    },
    {
      "cell_type": "code",
      "source": [
        "import numpy.random as nr\n",
        "nr.randn(3,3)"
      ],
      "metadata": {
        "colab": {
          "base_uri": "https://localhost:8080/"
        },
        "id": "fzGcPAIUyz7r",
        "outputId": "a37531d0-f013-42ff-c881-012bc55ddb48"
      },
      "execution_count": null,
      "outputs": [
        {
          "output_type": "execute_result",
          "data": {
            "text/plain": [
              "array([[-1.08185828, -0.54107807, -0.22448597],\n",
              "       [-0.63007591, -0.99228989,  0.09870555],\n",
              "       [-0.00872154,  0.34490435, -1.2803823 ]])"
            ]
          },
          "metadata": {},
          "execution_count": 11
        }
      ]
    },
    {
      "cell_type": "code",
      "source": [
        "from numpy.random import randn\n",
        "randn(3,3)"
      ],
      "metadata": {
        "colab": {
          "base_uri": "https://localhost:8080/"
        },
        "id": "5w8d1hqPy6ID",
        "outputId": "5b7d2b87-84db-4be9-b58e-b8383d7d8cdc"
      },
      "execution_count": null,
      "outputs": [
        {
          "output_type": "execute_result",
          "data": {
            "text/plain": [
              "array([[-0.96745776,  0.51711404, -1.21881662],\n",
              "       [ 0.91520634,  0.51469904, -0.48321608],\n",
              "       [-1.22023073, -0.55610803,  0.30831105]])"
            ]
          },
          "metadata": {},
          "execution_count": 12
        }
      ]
    },
    {
      "cell_type": "code",
      "source": [
        "from numpy.random import *\n",
        "rand(3,3) # uniform distribution"
      ],
      "metadata": {
        "colab": {
          "base_uri": "https://localhost:8080/"
        },
        "id": "pfkRbW6uzRwj",
        "outputId": "f9c9d0e7-30b4-4cf5-a5bd-58372f9e6c3b"
      },
      "execution_count": null,
      "outputs": [
        {
          "output_type": "execute_result",
          "data": {
            "text/plain": [
              "array([[0.70950847, 0.39287078, 0.75315234],\n",
              "       [0.0553244 , 0.25149038, 0.0981763 ],\n",
              "       [0.57329909, 0.08836524, 0.76165659]])"
            ]
          },
          "metadata": {},
          "execution_count": 13
        }
      ]
    },
    {
      "cell_type": "code",
      "source": [
        "from numpy.random import randn as rn\n",
        "rn(3,3)"
      ],
      "metadata": {
        "colab": {
          "base_uri": "https://localhost:8080/"
        },
        "id": "5cAfOB76zSp8",
        "outputId": "714dd333-8574-4311-8fe9-a680754fe58f"
      },
      "execution_count": null,
      "outputs": [
        {
          "output_type": "execute_result",
          "data": {
            "text/plain": [
              "array([[-0.94486515,  1.53387261,  1.76079934],\n",
              "       [-0.13009895,  0.61937373,  1.37758513],\n",
              "       [ 0.6810059 ,  0.94612552,  0.28152648]])"
            ]
          },
          "metadata": {},
          "execution_count": 14
        }
      ]
    },
    {
      "cell_type": "code",
      "source": [
        "from numpy.random import randn as rn, rand as r\n",
        "print(rn(3,3))\n",
        "print(r(3,3))"
      ],
      "metadata": {
        "colab": {
          "base_uri": "https://localhost:8080/"
        },
        "id": "7-vaaPLs6uIV",
        "outputId": "6597e6e4-5a96-428a-db94-60b4878f645b"
      },
      "execution_count": null,
      "outputs": [
        {
          "output_type": "stream",
          "name": "stdout",
          "text": [
            "[[-2.71425024 -1.74778534  0.21040121]\n",
            " [-0.3294365   0.70869909  0.20277521]\n",
            " [ 0.75293556  1.41181707  0.36908543]]\n",
            "[[0.94289868 0.31439648 0.20316251]\n",
            " [0.4551602  0.17243656 0.84328242]\n",
            " [0.05683198 0.68068606 0.86783174]]\n"
          ]
        }
      ]
    },
    {
      "cell_type": "markdown",
      "source": [
        "## numpy 본격적으로"
      ],
      "metadata": {
        "id": "NHriKdl-jxVo"
      }
    },
    {
      "cell_type": "code",
      "source": [
        "import numpy as np\n",
        "a=np.array([1,2,3,4]) # list가 입력으로 들어가는 함수\n",
        "print(a)\n",
        "print(type(a))\n",
        "print(a.dtype) # data type\n",
        "print(a.shape)\n",
        "b=np.array([1,2,3.1,4])\n",
        "print(b.dtype) # 하나라도 실수면 자동으로 실수 타입으로\n",
        "print(b)"
      ],
      "metadata": {
        "colab": {
          "base_uri": "https://localhost:8080/"
        },
        "id": "Kf2BAGfBAcyO",
        "outputId": "c30d5f33-e137-4cec-a492-624b3647d4d7"
      },
      "execution_count": null,
      "outputs": [
        {
          "output_type": "stream",
          "name": "stdout",
          "text": [
            "[1 2 3 4]\n",
            "<class 'numpy.ndarray'>\n",
            "int64\n",
            "(4,)\n",
            "float64\n",
            "[1.  2.  3.1 4. ]\n"
          ]
        }
      ]
    },
    {
      "cell_type": "code",
      "source": [
        "A=np.array([[1,2,3],[3,4,5]]) # 이 셀부터는 import numpy as np 는 실행 했다 치고 작성\n",
        "# A=np.array([[1,2],[3,4,5]]) # 리스트와는 달리 이제는 행렬이라서 각 행에 해당하는 숫자의 개수가 같아야 함\n",
        "print(A)\n",
        "print(A.shape)\n",
        "print(A.ndim) # 차원의 수\n",
        "print(A.size) # 전체 성분의 수"
      ],
      "metadata": {
        "colab": {
          "base_uri": "https://localhost:8080/"
        },
        "id": "S58mLOqPEuXY",
        "outputId": "6fc68e81-54a2-471d-ed93-fa2b58d8016e"
      },
      "execution_count": null,
      "outputs": [
        {
          "output_type": "stream",
          "name": "stdout",
          "text": [
            "[[1 2 3]\n",
            " [3 4 5]]\n",
            "(2, 3)\n",
            "2\n",
            "6\n"
          ]
        }
      ]
    },
    {
      "cell_type": "code",
      "source": [
        "print(np.zeros(5))\n",
        "print(np.zeros_like(A))\n",
        "print(np.ones(5))\n",
        "print(np.zeros((3,3))) # 튜플을 입력으로! 그냥 np.zeros(3,3)은 안돼요\n",
        "print(np.arange(3,10,2)) # range랑 같은데 array로 만들어줌\n",
        "print(np.arange(0,1,0.1)) # 소수점 가능\n",
        "print(np.linspace(0,1,10, endpoint=False)) # 0 에서부터 1 포함(default) 10개로"
      ],
      "metadata": {
        "colab": {
          "base_uri": "https://localhost:8080/"
        },
        "id": "Lc1zek5ZlLiN",
        "outputId": "82b6a7c8-a137-411b-eeb9-61626de81711"
      },
      "execution_count": null,
      "outputs": [
        {
          "output_type": "stream",
          "name": "stdout",
          "text": [
            "[0. 0. 0. 0. 0.]\n",
            "[[0 0 0]\n",
            " [0 0 0]]\n",
            "[1. 1. 1. 1. 1.]\n",
            "[[0. 0. 0.]\n",
            " [0. 0. 0.]\n",
            " [0. 0. 0.]]\n",
            "[3 5 7 9]\n",
            "[0.  0.1 0.2 0.3 0.4 0.5 0.6 0.7 0.8 0.9]\n",
            "[0.  0.1 0.2 0.3 0.4 0.5 0.6 0.7 0.8 0.9]\n"
          ]
        }
      ]
    },
    {
      "cell_type": "code",
      "source": [
        "a=np.array([1,2,3])\n",
        "b=np.array([4,5,6])\n",
        "c=a+b\n",
        "print(c) # 드디어! 양 옆으로 길어지는 게 아닌 벡터의 합이 나옴!"
      ],
      "metadata": {
        "colab": {
          "base_uri": "https://localhost:8080/"
        },
        "id": "gA0Xnd6Dle6u",
        "outputId": "22a61b53-daea-4841-a917-2b1ba06a666c"
      },
      "execution_count": null,
      "outputs": [
        {
          "output_type": "stream",
          "name": "stdout",
          "text": [
            "[5 7 9]\n"
          ]
        }
      ]
    },
    {
      "cell_type": "code",
      "source": [
        "A=np.array([[1,2,3],[1,2,3]])\n",
        "B=np.array([[4,5,6],[1,1,1]])\n",
        "C=A+B\n",
        "D=A-B\n",
        "print(C)\n",
        "print(D)\n",
        "print()\n",
        "print(A*B) # 곱셈은? 성분끼리의 곱! (Hadamard product)\n",
        "print(A/B) # 나누기도 마찬가지\n",
        "print(B**2) # 제곱도 각 성분에 대해서 해준다"
      ],
      "metadata": {
        "colab": {
          "base_uri": "https://localhost:8080/"
        },
        "id": "p0sTGxn7mlvH",
        "outputId": "32ca1043-e54f-4de8-91b6-404556fc9947"
      },
      "execution_count": null,
      "outputs": [
        {
          "output_type": "stream",
          "name": "stdout",
          "text": [
            "[[5 7 9]\n",
            " [2 3 4]]\n",
            "[[-3 -3 -3]\n",
            " [ 0  1  2]]\n",
            "\n",
            "[[ 4 10 18]\n",
            " [ 1  2  3]]\n",
            "[[0.25 0.4  0.5 ]\n",
            " [1.   2.   3.  ]]\n",
            "[[16 25 36]\n",
            " [ 1  1  1]]\n"
          ]
        }
      ]
    },
    {
      "cell_type": "code",
      "source": [
        "A=np.array([[1,2],[3,4]])\n",
        "B=np.array([[1,2],[3,4]])\n",
        "print(A*B)\n",
        "print(A@B) # 이게 진짜 행렬 곱하기"
      ],
      "metadata": {
        "colab": {
          "base_uri": "https://localhost:8080/"
        },
        "id": "U2CZ44Qwm3R3",
        "outputId": "260488a6-1270-4930-fb11-2173d38cc916"
      },
      "execution_count": null,
      "outputs": [
        {
          "output_type": "stream",
          "name": "stdout",
          "text": [
            "[[ 1  4]\n",
            " [ 9 16]]\n",
            "[[ 7 10]\n",
            " [15 22]]\n"
          ]
        }
      ]
    },
    {
      "cell_type": "markdown",
      "source": [
        "## numpy 의 인덱싱과 슬라이싱"
      ],
      "metadata": {
        "id": "wAGvr0jv03tF"
      }
    },
    {
      "cell_type": "code",
      "source": [
        "a=np.array([1,2,3,4,5,6,7,8,9])\n",
        "# 인덱싱과 슬라이싱, list할 때와 동일!\n",
        "print(a[0])\n",
        "print(a[1])\n",
        "print(a[-1])\n",
        "print(a[1:4])\n",
        "print(a[7:])\n",
        "print(a[:7])\n",
        "print(a[:])"
      ],
      "metadata": {
        "colab": {
          "base_uri": "https://localhost:8080/"
        },
        "id": "NyIR-Ag3nXqe",
        "outputId": "52df5cee-eac3-4a82-ece9-6a8ab8f00c72"
      },
      "execution_count": null,
      "outputs": [
        {
          "output_type": "stream",
          "name": "stdout",
          "text": [
            "1\n",
            "2\n",
            "9\n",
            "[2 3 4]\n",
            "[8 9]\n",
            "[1 2 3 4 5 6 7]\n",
            "[1 2 3 4 5 6 7 8 9]\n"
          ]
        }
      ]
    },
    {
      "cell_type": "code",
      "source": [
        "# 행렬에 대한 인덱싱과 슬라이싱\n",
        "A=np.array([[1,2,3],[4,5,6],[7,8,9]])\n",
        "print(A[0]) # 하나만 쓰면 행에 대한 인덱싱 (리스트 속 리스트 생각)\n",
        "print(A[-1])\n",
        "print(A[1:])\n",
        "print(A[:])\n",
        "print(A[0][2])\n",
        "print(A[0,2]) # 2차원 행렬도 동일한데, 리스트와 달리 이런 것도 됨\n",
        "B=[[1,2,3,4], [5,6,7,8]]\n",
        "print(B)\n",
        "print(B[0][2])\n",
        "# print(B[0,2]) # error!\n",
        "print(A[1,:]) # 1 행, 전부\n",
        "print(A[1,0:3:2])\n",
        "print(A[:,2]) # 전부, 2 열"
      ],
      "metadata": {
        "colab": {
          "base_uri": "https://localhost:8080/"
        },
        "id": "q1ckGh0Go69_",
        "outputId": "bce23ba8-88a3-4d0b-8d5c-0d250e75ae12"
      },
      "execution_count": null,
      "outputs": [
        {
          "output_type": "stream",
          "name": "stdout",
          "text": [
            "[1 2 3]\n",
            "[7 8 9]\n",
            "[[4 5 6]\n",
            " [7 8 9]]\n",
            "[[1 2 3]\n",
            " [4 5 6]\n",
            " [7 8 9]]\n",
            "3\n",
            "3\n",
            "[[1, 2, 3, 4], [5, 6, 7, 8]]\n",
            "3\n",
            "[4 5 6]\n",
            "[4 6]\n",
            "[3 6 9]\n"
          ]
        }
      ]
    },
    {
      "cell_type": "code",
      "source": [
        "# 3차원 행렬 인덱싱\n",
        "A=np.array([ [[0,1,2,3],[4,5,6,7],[8,9,10,11]] ,\n",
        "             [[12,13,14,15],[16,17,18,19],[20,21,22,23]] ])\n",
        "print(A)\n",
        "print(A.shape)\n",
        "print(A[0,1,2])\n",
        "\n",
        "a=np.array([[[1,2,3,4]]]) # 대괄호가 하나 늘어나면 왼쪽에 shape 값이 추가 된다.\n",
        "print(a.shape)"
      ],
      "metadata": {
        "colab": {
          "base_uri": "https://localhost:8080/"
        },
        "id": "g-uH286mbo_D",
        "outputId": "c350df98-e845-4f1a-f7a2-bcc5c417bee8"
      },
      "execution_count": null,
      "outputs": [
        {
          "output_type": "stream",
          "name": "stdout",
          "text": [
            "[[[ 0  1  2  3]\n",
            "  [ 4  5  6  7]\n",
            "  [ 8  9 10 11]]\n",
            "\n",
            " [[12 13 14 15]\n",
            "  [16 17 18 19]\n",
            "  [20 21 22 23]]]\n",
            "(2, 3, 4)\n",
            "6\n",
            "(1, 1, 4)\n"
          ]
        }
      ]
    },
    {
      "cell_type": "code",
      "source": [
        "# boolean 인덱싱\n",
        "a=[1,2,3,4,5,3,3]\n",
        "print(a==3) # 여러개 값 들어있는 리스트랑 3 달랑 하나랑 같냐? 다르다!\n",
        "A=np.array([[1,2,3,4],[5,3,7,3]])\n",
        "print(A==3) # 리스트와 달리 각 성분에 대해 비교해줌\n",
        "print(A[A==3]) # True, False가 담긴 행렬로 인덱싱 가능!!\n",
        "\n",
        "A[A>3] = 100\n",
        "print(A) # 그러면 이런 것도 가능하다! (3보다 큰 애들을 100으로 바꿔줘)\n",
        "\n",
        "A=np.array([[1,2],[3,4],[5,6],[7,8]])\n",
        "B=np.array([True, False, False, True]) # 참고로 그냥 리스트여도 됨\n",
        "print(A[B,:]) # 0행, 3행 슬라이싱\n",
        "\n",
        "b=np.array([1,2,3,4])\n",
        "print(b[[True,True,False,False]])\n",
        "c=[1,2,3,4]\n",
        "# c[[True,True,False,False]] # error!"
      ],
      "metadata": {
        "colab": {
          "base_uri": "https://localhost:8080/"
        },
        "id": "kbY8JDDmrM7G",
        "outputId": "3bd061dc-6e4b-433d-848a-c0e483aae5e3"
      },
      "execution_count": null,
      "outputs": [
        {
          "output_type": "stream",
          "name": "stdout",
          "text": [
            "False\n",
            "[[False False  True False]\n",
            " [False  True False  True]]\n",
            "[3 3 3]\n",
            "[[  1   2   3 100]\n",
            " [100   3 100   3]]\n",
            "[[1 2]\n",
            " [7 8]]\n",
            "[1 2]\n"
          ]
        }
      ]
    },
    {
      "cell_type": "code",
      "source": [
        "# array로 인덱싱\n",
        "a=np.array([1,2,3,4,5])\n",
        "A=a[2]\n",
        "print(A)\n",
        "A=a[ np.array(2) ] # np.array를 안에다가?\n",
        "print(A)\n",
        "A=a[ np.array([2,3,4]) ]\n",
        "print(A)\n",
        "A=a[ np.array([[2,2,2],[3,3,3]]) ]\n",
        "print(A) # 인덱싱된 애들로 2행 3열짜리 행렬을 만든다\n",
        "\n",
        "a=[1,2,3]\n",
        "# a[ [1,1,1,1,2,2,2] ] # error!\n",
        "\n",
        "a=np.array([[1,2,3],[4,5,6]])\n",
        "print(a[0])\n",
        "A=a[ np.array([[0,1],[1,1]]) ]\n",
        "print(A.shape) # 예를 들어, a[0] = array([1,2,3])과 같이 1차원 데이터이므로 한 차원이 뒤에 늘어나서 2,2, \"3\" 이 된다!\n",
        "print(A) # segmentation 결과 그림 보여줄 때 사용!"
      ],
      "metadata": {
        "colab": {
          "base_uri": "https://localhost:8080/"
        },
        "id": "-SJA3ixWUAjH",
        "outputId": "4903e28b-79c0-4b22-821b-ea5da67b14e2"
      },
      "execution_count": null,
      "outputs": [
        {
          "output_type": "stream",
          "name": "stdout",
          "text": [
            "3\n",
            "3\n",
            "[3 4 5]\n",
            "[[3 3 3]\n",
            " [4 4 4]]\n",
            "[1 2 3]\n",
            "(2, 2, 3)\n",
            "[[[1 2 3]\n",
            "  [4 5 6]]\n",
            "\n",
            " [[4 5 6]\n",
            "  [4 5 6]]]\n"
          ]
        }
      ]
    },
    {
      "cell_type": "code",
      "source": [
        "A=np.array([[1,2],[3,4],[5,6],[7,8]])\n",
        "print(A)\n",
        "print(A.shape)\n",
        "\n",
        "# 1. A[몇 번째 행이냐, 몇 번째 열이냐]\n",
        "print(A[0,1])\n",
        "# 2. A[ array(bool) ] => A와 같은 shape을 가지는 array형 bool이 어디에 True를 가지고 있냐\n",
        "print(A[ np.array([[False,True],[False,False],[False,False],[False,False]]) ])\n",
        "print(A[A==2])\n",
        "# 3. A[몇 번째 값에 True가 있냐, 몇 번째 값에 True가 있냐]\n",
        "print(A[ [True,False,False,False], [False,True] ])\n",
        "# 4. A[ array ] # 몇 번째 것을 어떻게 쌓을거냐\n",
        "print(A[ np.array([1,1,2,2,2]) ])"
      ],
      "metadata": {
        "id": "DReUD5-5okgr",
        "colab": {
          "base_uri": "https://localhost:8080/"
        },
        "outputId": "74ba6afc-1331-423c-9e90-025d18421e29"
      },
      "execution_count": null,
      "outputs": [
        {
          "output_type": "stream",
          "name": "stdout",
          "text": [
            "[[1 2]\n",
            " [3 4]\n",
            " [5 6]\n",
            " [7 8]]\n",
            "(4, 2)\n",
            "2\n",
            "[2]\n",
            "[2]\n",
            "[2]\n",
            "[[3 4]\n",
            " [3 4]\n",
            " [5 6]\n",
            " [5 6]\n",
            " [5 6]]\n"
          ]
        }
      ]
    },
    {
      "cell_type": "markdown",
      "source": [
        "## numpy의 여러 함수들"
      ],
      "metadata": {
        "id": "2gepSsbt2cgR"
      }
    },
    {
      "cell_type": "code",
      "source": [
        "A=np.random.randn(3,3) # 여긴 튜플로 안줘도 됨\n",
        "B=np.random.rand(3,3)\n",
        "print(A)\n",
        "print(B)"
      ],
      "metadata": {
        "colab": {
          "base_uri": "https://localhost:8080/"
        },
        "id": "ustWVGixrwbX",
        "outputId": "973fd8ed-40c4-41ba-d2e9-44d7e5171a73"
      },
      "execution_count": null,
      "outputs": [
        {
          "output_type": "stream",
          "name": "stdout",
          "text": [
            "[[ 0.52293744  2.0798938   0.04136108]\n",
            " [ 0.06098918 -0.0204582   0.09214182]\n",
            " [ 1.79887679 -2.23479911  0.46520311]]\n",
            "[[0.09621506 0.09752978 0.03738173]\n",
            " [0.95489653 0.72579904 0.89345078]\n",
            " [0.81040643 0.03143096 0.53075659]]\n"
          ]
        }
      ]
    },
    {
      "cell_type": "code",
      "source": [
        "A=np.random.randn(3,3)\n",
        "print(A)\n",
        "print(np.abs(A))\n",
        "print(np.sqrt(np.abs(A)))\n",
        "print(np.exp(A))\n",
        "print(np.log(np.abs(A)))\n",
        "print(np.log(np.exp(1))) # np.exp(1) = e^1\n",
        "print(np.log10(10))\n",
        "print(np.log2(2))\n",
        "print(np.round(A)) # 반올림\n",
        "print(np.round(A,2)) # 소수점 둘째자리까지\n",
        "print(np.floor(A)) # 내림\n",
        "print(np.ceil(A)) # 올림"
      ],
      "metadata": {
        "colab": {
          "base_uri": "https://localhost:8080/"
        },
        "id": "q5mM8G2osPVA",
        "outputId": "3bac0296-7764-4863-8c43-0016ecc77069"
      },
      "execution_count": null,
      "outputs": [
        {
          "output_type": "stream",
          "name": "stdout",
          "text": [
            "[[-1.23701962 -1.33580557 -1.37767659]\n",
            " [ 0.27661551  0.60017173 -0.27052217]\n",
            " [-0.795129   -0.59891433  0.34782616]]\n",
            "[[1.23701962 1.33580557 1.37767659]\n",
            " [0.27661551 0.60017173 0.27052217]\n",
            " [0.795129   0.59891433 0.34782616]]\n",
            "[[1.11221384 1.15577055 1.17374469]\n",
            " [0.52594249 0.77470751 0.52011746]\n",
            " [0.89170006 0.77389556 0.58976789]]\n",
            "[[0.29024798 0.26294627 0.25216375]\n",
            " [1.31865926 1.82243174 0.76298099]\n",
            " [0.45152299 0.54940779 1.41598608]]\n",
            "[[ 0.21270495  0.28953453  0.32039845]\n",
            " [-1.2851268  -0.51053945 -1.30740123]\n",
            " [-0.22925092 -0.51263671 -1.05605245]]\n",
            "1.0\n",
            "1.0\n",
            "1.0\n",
            "[[-1. -1. -1.]\n",
            " [ 0.  1. -0.]\n",
            " [-1. -1.  0.]]\n",
            "[[-1.24 -1.34 -1.38]\n",
            " [ 0.28  0.6  -0.27]\n",
            " [-0.8  -0.6   0.35]]\n",
            "[[-2. -2. -2.]\n",
            " [ 0.  0. -1.]\n",
            " [-1. -1.  0.]]\n",
            "[[-1. -1. -1.]\n",
            " [ 1.  1. -0.]\n",
            " [-0. -0.  1.]]\n"
          ]
        }
      ]
    },
    {
      "cell_type": "code",
      "source": [
        "print(np.sin(np.pi/6))\n",
        "print(np.cos(np.pi/3))\n",
        "print(np.tan(np.pi/4))\n",
        "print(np.tanh(-10))"
      ],
      "metadata": {
        "colab": {
          "base_uri": "https://localhost:8080/"
        },
        "id": "I4Y6n35nwXfX",
        "outputId": "d7c001b5-01ee-4353-ac84-fa8bc49abe93"
      },
      "execution_count": null,
      "outputs": [
        {
          "output_type": "stream",
          "name": "stdout",
          "text": [
            "0.49999999999999994\n",
            "0.5000000000000001\n",
            "0.9999999999999999\n",
            "-0.9999999958776927\n"
          ]
        }
      ]
    },
    {
      "cell_type": "code",
      "source": [
        "np.nan # not a number\n",
        "# np.log(-1)\n",
        "print(np.isnan([1,2,np.nan,3,4]))\n",
        "print(np.isinf([1,2,3,4,np.inf]))"
      ],
      "metadata": {
        "colab": {
          "base_uri": "https://localhost:8080/"
        },
        "id": "z4b8wwrjwYTp",
        "outputId": "20786800-8e7e-4789-b61e-f7d7e964560d"
      },
      "execution_count": null,
      "outputs": [
        {
          "output_type": "stream",
          "name": "stdout",
          "text": [
            "[False False  True False False]\n",
            "[False False False False  True]\n"
          ]
        }
      ]
    },
    {
      "cell_type": "code",
      "source": [
        "A=np.random.randn(3,4)\n",
        "print(A)\n",
        "print(np.max(A))\n",
        "print(np.max(A,axis=0))\n",
        "print(np.max(A,axis=1)) # 1D array로 바꿔버림\n",
        "print(np.max(A,axis=0, keepdims=True))\n",
        "print(np.max(A,axis=1, keepdims=True)) # 3 행 1열 짜리 2D array\n",
        "print(np.min(A))\n",
        "print(np.min(A,axis=0))\n",
        "print(np.min(A,axis=1))\n",
        "print(np.argmax(A))\n",
        "print(np.argmax(A,axis=0)) # 각 열에서 가장 큰 애가 존재하는 인덱스\n",
        "print(np.argmax(A,axis=1)) # 각 행에서 가장 큰 애가 존재하는 인덱스"
      ],
      "metadata": {
        "colab": {
          "base_uri": "https://localhost:8080/"
        },
        "id": "DEF5FT5tx8vy",
        "outputId": "d906a1c8-1734-4b9a-bcbf-bb8ff12f691e"
      },
      "execution_count": null,
      "outputs": [
        {
          "output_type": "stream",
          "name": "stdout",
          "text": [
            "[[ 1.29214842  0.87718244 -0.20902648  1.26800045]\n",
            " [ 0.10108548  0.52806244 -1.36363564 -1.46836196]\n",
            " [ 0.30768777 -0.25467179 -1.05957695 -0.09577414]]\n",
            "1.2921484178361748\n",
            "[ 1.29214842  0.87718244 -0.20902648  1.26800045]\n",
            "[1.29214842 0.52806244 0.30768777]\n",
            "[[ 1.29214842  0.87718244 -0.20902648  1.26800045]]\n",
            "[[1.29214842]\n",
            " [0.52806244]\n",
            " [0.30768777]]\n",
            "-1.468361962619482\n",
            "[ 0.10108548 -0.25467179 -1.36363564 -1.46836196]\n",
            "[-0.20902648 -1.46836196 -1.05957695]\n",
            "0\n",
            "[0 0 0 0]\n",
            "[0 1 0]\n"
          ]
        }
      ]
    },
    {
      "cell_type": "code",
      "source": [
        "a=np.random.randn(6,1)\n",
        "print(a)\n",
        "a_sorted=np.sort(a,axis=0)\n",
        "print(a_sorted)\n",
        "print(np.flipud(a_sorted))\n",
        "\n",
        "a=np.random.randn(6,1)\n",
        "print(a)\n",
        "print(a.sort(axis=0))\n",
        "\n",
        "print(np.max(a))\n",
        "print(a.max())"
      ],
      "metadata": {
        "colab": {
          "base_uri": "https://localhost:8080/"
        },
        "id": "6TB-eeVUFbjh",
        "outputId": "d70e2b65-a358-4329-d0b6-57804899b70d"
      },
      "execution_count": null,
      "outputs": [
        {
          "output_type": "stream",
          "name": "stdout",
          "text": [
            "[[ 0.54542572]\n",
            " [-0.40966736]\n",
            " [-0.35351721]\n",
            " [-0.36290879]\n",
            " [-0.30240458]\n",
            " [ 0.8474323 ]]\n",
            "[[-0.40966736]\n",
            " [-0.36290879]\n",
            " [-0.35351721]\n",
            " [-0.30240458]\n",
            " [ 0.54542572]\n",
            " [ 0.8474323 ]]\n",
            "[[ 0.8474323 ]\n",
            " [ 0.54542572]\n",
            " [-0.30240458]\n",
            " [-0.35351721]\n",
            " [-0.36290879]\n",
            " [-0.40966736]]\n",
            "[[-1.24138692]\n",
            " [-1.05585054]\n",
            " [-0.10866932]\n",
            " [-0.02571589]\n",
            " [-1.94189935]\n",
            " [-0.95130964]]\n",
            "None\n",
            "-0.025715891429294088\n",
            "-0.025715891429294088\n"
          ]
        }
      ]
    },
    {
      "cell_type": "code",
      "source": [
        "A=np.random.randn(3,4)\n",
        "print(A)\n",
        "print(np.sum(A))\n",
        "print(np.sum(A,axis=1))\n",
        "print(np.sum(A,axis=1,keepdims=True))\n",
        "print(np.mean(A))\n",
        "print(np.mean(A,axis=1))\n",
        "print(np.mean(A,axis=1,keepdims=True))\n",
        "print(np.std(A)) # standard deviation 표준 편차\n",
        "\n",
        "print(A.sum(axis=1, keepdims=True))\n",
        "print(A.mean(axis=1, keepdims=True))\n",
        "print(A.std())"
      ],
      "metadata": {
        "colab": {
          "base_uri": "https://localhost:8080/"
        },
        "id": "aMN5U4YEyFOp",
        "outputId": "1fc5cfa2-ff40-4b28-e9ec-8c472b42e787"
      },
      "execution_count": null,
      "outputs": [
        {
          "output_type": "stream",
          "name": "stdout",
          "text": [
            "[[ 0.21480807 -1.09355029 -0.10473369  1.56106927]\n",
            " [-0.02912846 -0.59322568 -0.24902594  0.21013641]\n",
            " [-1.07140889 -1.01379903 -0.5921068  -1.55532658]]\n",
            "-4.316291620154645\n",
            "[ 0.57759336 -0.66124368 -4.23264131]\n",
            "[[ 0.57759336]\n",
            " [-0.66124368]\n",
            " [-4.23264131]]\n",
            "-0.3596909683462204\n",
            "[ 0.14439834 -0.16531092 -1.05816033]\n",
            "[[ 0.14439834]\n",
            " [-0.16531092]\n",
            " [-1.05816033]]\n",
            "0.7927611641372063\n",
            "[[ 0.57759336]\n",
            " [-0.66124368]\n",
            " [-4.23264131]]\n",
            "[[ 0.14439834]\n",
            " [-0.16531092]\n",
            " [-1.05816033]]\n",
            "0.7927611641372063\n"
          ]
        }
      ]
    },
    {
      "cell_type": "code",
      "source": [
        "A=np.random.randint(1,5,size=(12,)) # 1부터 5미만 12개 정수 (1 차원은 (N,) 과 같이 표현)\n",
        "print(A)\n",
        "print(A.shape)\n",
        "\n",
        "B=A.reshape(2,2,3)\n",
        "print(B)\n",
        "print(B.ndim) # 3 차원 행렬이다"
      ],
      "metadata": {
        "colab": {
          "base_uri": "https://localhost:8080/"
        },
        "id": "ypjj3lXF0GC6",
        "outputId": "c961ad20-1998-4295-ab42-100f33fce8a5"
      },
      "execution_count": null,
      "outputs": [
        {
          "output_type": "stream",
          "name": "stdout",
          "text": [
            "[2 1 1 2 2 3 4 1 3 3 2 4]\n",
            "(12,)\n",
            "[[[2 1 1]\n",
            "  [2 2 3]]\n",
            "\n",
            " [[4 1 3]\n",
            "  [3 2 4]]]\n",
            "3\n"
          ]
        }
      ]
    },
    {
      "cell_type": "code",
      "source": [
        "a=np.array([1,2,3])\n",
        "b=np.array([2,2,1])\n",
        "print(np.sum(a*b))\n",
        "\n",
        "a=a.reshape(3,1)\n",
        "b=b.reshape(3,1)\n",
        "print(a.transpose()@b)\n",
        "print(a.T@b)\n",
        "\n",
        "A=np.random.randn(4,3,6)\n",
        "print(A.transpose(0,2,1).shape)"
      ],
      "metadata": {
        "colab": {
          "base_uri": "https://localhost:8080/"
        },
        "id": "229OZXqR77Er",
        "outputId": "240caff9-9018-4352-cc9d-a4e73dc3896a"
      },
      "execution_count": null,
      "outputs": [
        {
          "output_type": "stream",
          "name": "stdout",
          "text": [
            "9\n",
            "[[9]]\n",
            "[[9]]\n",
            "(4, 6, 3)\n"
          ]
        }
      ]
    },
    {
      "cell_type": "code",
      "source": [
        "A=np.arange(20)\n",
        "print(A)\n",
        "print(A.reshape(4,5))\n",
        "print(A.reshape(4,-1).shape) # 4개 행이 될 수 있도록 열의 수를 맞춰라\n",
        "print(A.reshape(2,5,-1).shape)\n",
        "print(A.reshape(2,-1,5).shape)\n",
        "print(A.reshape(1,-1).shape) # 2차원 행 벡터\n",
        "print(A.reshape(-1,1).shape) # 2차원 열 벡터"
      ],
      "metadata": {
        "colab": {
          "base_uri": "https://localhost:8080/"
        },
        "id": "whCJFs0h-Zpa",
        "outputId": "91573911-e22f-41ef-ccc4-ffd6b18b5b6e"
      },
      "execution_count": null,
      "outputs": [
        {
          "output_type": "stream",
          "name": "stdout",
          "text": [
            "[ 0  1  2  3  4  5  6  7  8  9 10 11 12 13 14 15 16 17 18 19]\n",
            "[[ 0  1  2  3  4]\n",
            " [ 5  6  7  8  9]\n",
            " [10 11 12 13 14]\n",
            " [15 16 17 18 19]]\n",
            "(4, 5)\n",
            "(2, 5, 2)\n",
            "(2, 2, 5)\n",
            "(1, 20)\n",
            "(20, 1)\n"
          ]
        }
      ]
    },
    {
      "cell_type": "code",
      "source": [
        "x=np.random.randn(2,3,4,5,6)\n",
        "print(x[1,2,:,:,:].shape)\n",
        "print(x[1,2,...].shape) # x[1, 2, …] 는 x[1, 2, :, :, :] 와 같습니다.\n",
        "print(x[:,:,:,:,3].shape)\n",
        "print(x[...,3].shape) # x[…, 3] 는 x[:, :, :, :, 3] 와 같습니다.\n",
        "print(x[1,:,:,3,:].shape)\n",
        "print(x[1,...,3,:].shape) # x[1, …, 3, :] 는 x[1, :, :, 3, :] 와 같습니다."
      ],
      "metadata": {
        "colab": {
          "base_uri": "https://localhost:8080/"
        },
        "id": "j5ohZnX297fh",
        "outputId": "9b6e1ce5-c614-4a76-af73-52ecda04955f"
      },
      "execution_count": null,
      "outputs": [
        {
          "output_type": "stream",
          "name": "stdout",
          "text": [
            "(4, 5, 6)\n",
            "(4, 5, 6)\n",
            "(2, 3, 4, 5)\n",
            "(2, 3, 4, 5)\n",
            "(3, 4, 6)\n",
            "(3, 4, 6)\n"
          ]
        }
      ]
    },
    {
      "cell_type": "code",
      "source": [
        "A=np.ones((3,4))\n",
        "B=np.zeros((3,4))\n",
        "C=np.vstack([A,B])\n",
        "D=np.hstack([A,B])\n",
        "E=np.block([[A],[B]])\n",
        "F=np.block([A,B])\n",
        "G=np.block([ [[A]], [[B]] ])\n",
        "\n",
        "print(C)\n",
        "print(D)\n",
        "print(E)\n",
        "print(F)\n",
        "print(G)"
      ],
      "metadata": {
        "colab": {
          "base_uri": "https://localhost:8080/"
        },
        "id": "H1WZmF-n_sTF",
        "outputId": "86d6ba64-40ef-45f4-8f44-cb8b102510ff"
      },
      "execution_count": null,
      "outputs": [
        {
          "output_type": "stream",
          "name": "stdout",
          "text": [
            "[[1. 1. 1. 1.]\n",
            " [1. 1. 1. 1.]\n",
            " [1. 1. 1. 1.]\n",
            " [0. 0. 0. 0.]\n",
            " [0. 0. 0. 0.]\n",
            " [0. 0. 0. 0.]]\n",
            "[[1. 1. 1. 1. 0. 0. 0. 0.]\n",
            " [1. 1. 1. 1. 0. 0. 0. 0.]\n",
            " [1. 1. 1. 1. 0. 0. 0. 0.]]\n",
            "[[1. 1. 1. 1.]\n",
            " [1. 1. 1. 1.]\n",
            " [1. 1. 1. 1.]\n",
            " [0. 0. 0. 0.]\n",
            " [0. 0. 0. 0.]\n",
            " [0. 0. 0. 0.]]\n",
            "[[1. 1. 1. 1. 0. 0. 0. 0.]\n",
            " [1. 1. 1. 1. 0. 0. 0. 0.]\n",
            " [1. 1. 1. 1. 0. 0. 0. 0.]]\n",
            "[[[1. 1. 1. 1.]\n",
            "  [1. 1. 1. 1.]\n",
            "  [1. 1. 1. 1.]]\n",
            "\n",
            " [[0. 0. 0. 0.]\n",
            "  [0. 0. 0. 0.]\n",
            "  [0. 0. 0. 0.]]]\n"
          ]
        }
      ]
    },
    {
      "cell_type": "code",
      "source": [
        "A = np.random.randn(1,1,1,3,1,1,4,1)\n",
        "# print(A)\n",
        "print(A.shape)\n",
        "print(A.squeeze().shape)\n",
        "print(A.squeeze(axis=(0,2,4,5)).shape)"
      ],
      "metadata": {
        "colab": {
          "base_uri": "https://localhost:8080/"
        },
        "id": "aby_Q8mPsWXe",
        "outputId": "c27a410b-2fb7-46fb-e0ff-96f83b0ec743"
      },
      "execution_count": null,
      "outputs": [
        {
          "output_type": "stream",
          "name": "stdout",
          "text": [
            "(1, 1, 1, 3, 1, 1, 4, 1)\n",
            "(3, 4)\n",
            "(1, 3, 4, 1)\n"
          ]
        }
      ]
    },
    {
      "cell_type": "code",
      "source": [
        "A = np.random.randn(3,4)\n",
        "A1 = A[np.newaxis,...] # np.newaxis is None <- True\n",
        "print(A1.shape)\n",
        "A2 = A[...,np.newaxis]\n",
        "print(A2.shape)\n",
        "A3 = A[:,np.newaxis,:]\n",
        "print(A3.shape)\n",
        "A1 = np.expand_dims(A,axis=0)\n",
        "print(A1.shape)\n",
        "A2 = np.expand_dims(A,axis=2)\n",
        "print(A2.shape)\n",
        "A3 = np.expand_dims(A,axis=1)\n",
        "print(A3.shape)\n",
        "A1 = A.reshape(1,3,4)\n",
        "print(A1.shape)\n",
        "A2 = A.reshape(3,4,1)\n",
        "print(A2.shape)\n",
        "A3 = A.reshape(3,1,4)\n",
        "print(A3.shape)"
      ],
      "metadata": {
        "colab": {
          "base_uri": "https://localhost:8080/"
        },
        "id": "6KrOVi7Rys-h",
        "outputId": "0f176998-4104-4639-8b9f-90c48aedd97a"
      },
      "execution_count": null,
      "outputs": [
        {
          "output_type": "stream",
          "name": "stdout",
          "text": [
            "(1, 3, 4)\n",
            "(3, 4, 1)\n",
            "(3, 1, 4)\n",
            "(1, 3, 4)\n",
            "(3, 4, 1)\n",
            "(3, 1, 4)\n",
            "(1, 3, 4)\n",
            "(3, 4, 1)\n",
            "(3, 1, 4)\n"
          ]
        }
      ]
    }
  ]
}