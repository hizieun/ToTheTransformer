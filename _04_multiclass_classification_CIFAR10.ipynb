{
  "nbformat": 4,
  "nbformat_minor": 0,
  "metadata": {
    "colab": {
      "provenance": [],
      "gpuType": "T4",
      "include_colab_link": true
    },
    "kernelspec": {
      "name": "python3",
      "display_name": "Python 3"
    },
    "language_info": {
      "name": "python"
    }
  },
  "cells": [
    {
      "cell_type": "markdown",
      "metadata": {
        "id": "view-in-github",
        "colab_type": "text"
      },
      "source": [
        "<a href=\"https://colab.research.google.com/github/hizieun/ToTheTransformer/blob/main/_04_multiclass_classification_CIFAR10.ipynb\" target=\"_parent\"><img src=\"https://colab.research.google.com/assets/colab-badge.svg\" alt=\"Open In Colab\"/></a>"
      ]
    },
    {
      "cell_type": "markdown",
      "source": [
        "라이브러리 설치"
      ],
      "metadata": {
        "id": "jdhoUXj2-sWy"
      }
    },
    {
      "cell_type": "code",
      "source": [
        "%%capture\n",
        "!pip install gdown"
      ],
      "metadata": {
        "id": "XcqjbC8HDDFD"
      },
      "execution_count": null,
      "outputs": []
    },
    {
      "cell_type": "markdown",
      "source": [
        "라이브러리 import"
      ],
      "metadata": {
        "id": "Q5uy9a_I-u-o"
      }
    },
    {
      "cell_type": "code",
      "execution_count": null,
      "metadata": {
        "id": "aM-4nTEKrVtZ",
        "colab": {
          "base_uri": "https://localhost:8080/"
        },
        "outputId": "dc1ceb40-6eee-417e-c6fe-6c94687e44d0"
      },
      "outputs": [
        {
          "output_type": "stream",
          "name": "stdout",
          "text": [
            "Drive already mounted at /content/drive; to attempt to forcibly remount, call drive.mount(\"/content/drive\", force_remount=True).\n",
            "cpu\n"
          ]
        }
      ],
      "source": [
        "from google.colab import drive\n",
        "drive.mount('/content/drive')\n",
        "import sys\n",
        "sys.path.append('/content/drive/MyDrive/23.09.19-22_트랜스포머교육/code')\n",
        "from multiclass_functions1 import * # * 은 all을 의미\n",
        "import torch\n",
        "from torch import nn, optim\n",
        "from torchvision import datasets, transforms\n",
        "import numpy as np\n",
        "import matplotlib.pyplot as plt\n",
        "DEVICE = \"cuda\" if torch.cuda.is_available() else \"cpu\"\n",
        "print(DEVICE)"
      ]
    },
    {
      "cell_type": "markdown",
      "source": [
        "하이퍼파라미터 및 모델 불러오기"
      ],
      "metadata": {
        "id": "quMd-eMxliLv"
      }
    },
    {
      "cell_type": "code",
      "source": [
        "BATCH_SIZE = 32\n",
        "LR = 1e-3\n",
        "EPOCH = 5\n",
        "criterion = nn.CrossEntropyLoss() # 클래스. 주로 이렇게 사용함!\n",
        "\n",
        "model_type = \"CNN_deep\"\n",
        "# model_type = \"CNN\"\n",
        "# model_type = \"MLP\"\n",
        "dataset = \"CIFAR10\"\n",
        "\n",
        "new_model_train = False\n",
        "hyuk_model_use = True # 여러분만의 모델 만들어서 사용하고 싶다면 False로\n",
        "if hyuk_model_use:\n",
        "    !gdown https://drive.google.com/uc?id=1cmT9sv8KM2KYJQQXjT-WUy3cj0s-VcG1 -O MLP_CIFAR10.pt\n",
        "    !gdown https://drive.google.com/uc?id=1tLYAVxpByFbHKjM0FCHCp3n9Uz5TRVVJ -O CNN_CIFAR10.pt\n",
        "    !gdown https://drive.google.com/uc?id=1LGWvbr0xanYi4xCyriiT7tGVaPaFIPOW -O CNN_deep_CIFAR10.pt\n",
        "    save_model_path = f'{model_type}_{dataset}.pt'\n",
        "    save_history_path = f'{model_type}_history_{dataset}.pt'\n",
        "else:\n",
        "    save_model_path = f'/content/drive/MyDrive/Colab Notebooks/results/{model_type}_{dataset}.pt'\n",
        "    save_history_path = f'/content/drive/MyDrive/Colab Notebooks/results/{model_type}_history_{dataset}.pt'"
      ],
      "metadata": {
        "id": "3iA9Wz63rkqO",
        "colab": {
          "base_uri": "https://localhost:8080/"
        },
        "outputId": "0cee4521-eae8-4b3e-d68c-bcbe862f66e9"
      },
      "execution_count": null,
      "outputs": [
        {
          "output_type": "stream",
          "name": "stdout",
          "text": [
            "Downloading...\n",
            "From: https://drive.google.com/uc?id=1cmT9sv8KM2KYJQQXjT-WUy3cj0s-VcG1\n",
            "To: /content/MLP_CIFAR10.pt\n",
            "100% 375k/375k [00:00<00:00, 98.0MB/s]\n",
            "Downloading...\n",
            "From: https://drive.google.com/uc?id=1tLYAVxpByFbHKjM0FCHCp3n9Uz5TRVVJ\n",
            "To: /content/CNN_CIFAR10.pt\n",
            "100% 56.1k/56.1k [00:00<00:00, 90.2MB/s]\n",
            "Downloading...\n",
            "From: https://drive.google.com/uc?id=1LGWvbr0xanYi4xCyriiT7tGVaPaFIPOW\n",
            "To: /content/CNN_deep_CIFAR10.pt\n",
            "100% 6.14M/6.14M [00:00<00:00, 64.2MB/s]\n"
          ]
        }
      ]
    },
    {
      "cell_type": "markdown",
      "source": [
        "데이터 불러오기"
      ],
      "metadata": {
        "id": "NdRUuv0alffP"
      }
    },
    {
      "cell_type": "code",
      "source": [
        "transform = transforms.ToTensor() # 텐서로 변환\n",
        "train_DS = datasets.CIFAR10(root = '/content/drive/MyDrive/Colab Notebooks/data', train=True, download=True, transform=transform)\n",
        "test_DS = datasets.CIFAR10(root = '/content/drive/MyDrive/Colab Notebooks/data', train=False, download=True, transform=transform)\n",
        "train_DL = torch.utils.data.DataLoader(train_DS, batch_size=BATCH_SIZE, shuffle=True) # DataLoader=데이터가 담긴 주머니\n",
        "test_DL = torch.utils.data.DataLoader(test_DS, batch_size=BATCH_SIZE, shuffle=True)"
      ],
      "metadata": {
        "id": "ipqhljrGrq51",
        "colab": {
          "base_uri": "https://localhost:8080/"
        },
        "outputId": "fb6e7e8a-522f-4a97-fc38-221c779a0bc6"
      },
      "execution_count": null,
      "outputs": [
        {
          "output_type": "stream",
          "name": "stdout",
          "text": [
            "Files already downloaded and verified\n",
            "Files already downloaded and verified\n"
          ]
        }
      ]
    },
    {
      "cell_type": "code",
      "source": [
        "print(train_DS)\n",
        "print(test_DS)"
      ],
      "metadata": {
        "id": "31xCQ814rtn1",
        "colab": {
          "base_uri": "https://localhost:8080/"
        },
        "outputId": "3c9ba7d6-1fb1-4231-f709-2851e2d69c53"
      },
      "execution_count": null,
      "outputs": [
        {
          "output_type": "stream",
          "name": "stdout",
          "text": [
            "Dataset CIFAR10\n",
            "    Number of datapoints: 50000\n",
            "    Root location: /content/drive/MyDrive/Colab Notebooks/data\n",
            "    Split: Train\n",
            "    StandardTransform\n",
            "Transform: ToTensor()\n",
            "Dataset CIFAR10\n",
            "    Number of datapoints: 10000\n",
            "    Root location: /content/drive/MyDrive/Colab Notebooks/data\n",
            "    Split: Test\n",
            "    StandardTransform\n",
            "Transform: ToTensor()\n"
          ]
        }
      ]
    },
    {
      "cell_type": "code",
      "source": [
        "print(test_DS.classes)\n",
        "print(test_DS.class_to_idx)\n",
        "x_batch, y_batch = next(iter(test_DL))  # x=입력,y=출력\n",
        "print(x_batch.shape)                    # 개채행렬(32개의 이미지, 컬러형태의 32*32 해상도)\n",
        "plt.imshow(x_batch[0].permute(1,2,0))   # 개행렬채 형태로 바꿔줌\n",
        "print(test_DS.classes[y_batch[0]])\n",
        "# y_batch[0]"
      ],
      "metadata": {
        "id": "29220e960VY1",
        "colab": {
          "base_uri": "https://localhost:8080/",
          "height": 522
        },
        "outputId": "cf9b4c73-c9ff-4ca6-da36-b263bf421183"
      },
      "execution_count": null,
      "outputs": [
        {
          "output_type": "stream",
          "name": "stdout",
          "text": [
            "['airplane', 'automobile', 'bird', 'cat', 'deer', 'dog', 'frog', 'horse', 'ship', 'truck']\n",
            "{'airplane': 0, 'automobile': 1, 'bird': 2, 'cat': 3, 'deer': 4, 'dog': 5, 'frog': 6, 'horse': 7, 'ship': 8, 'truck': 9}\n",
            "torch.Size([32, 3, 32, 32])\n",
            "frog\n"
          ]
        },
        {
          "output_type": "display_data",
          "data": {
            "text/plain": [
              "<Figure size 640x480 with 1 Axes>"
            ],
            "image/png": "[encoded data removed]"
          },
          "metadata": {}
        }
      ]
    },
    {
      "cell_type": "code",
      "source": [
        "x_batch, y_batch = next(iter(train_DL)) # 데이터 한 국자 # next(iter(train_DS)) 는 한장만 꺼내기\n",
        "# ToTensor 의 역할\n",
        "# 1. tensor 로 바꾸고\n",
        "# 2. 개채행열로 바꾸고\n",
        "# 3. 0~1 사이로 바꾸고 (int -> float)\n",
        "print(type(train_DS.data))\n",
        "print(train_DS.data.shape)\n",
        "print(train_DS.data.dtype)\n",
        "print(train_DS.data[0][0][0][0])\n",
        "\n",
        "print(type(x_batch))\n",
        "print(x_batch.shape)\n",
        "print(x_batch.dtype)\n",
        "print(x_batch[0][0][0][0])"
      ],
      "metadata": {
        "colab": {
          "base_uri": "https://localhost:8080/"
        },
        "id": "7nNj5rAprzNm",
        "outputId": "527ebeb3-15c5-4d37-cba8-2a3fe8ca7b2b"
      },
      "execution_count": null,
      "outputs": [
        {
          "output_type": "stream",
          "name": "stdout",
          "text": [
            "<class 'numpy.ndarray'>\n",
            "(50000, 32, 32, 3)\n",
            "uint8\n",
            "59\n",
            "<class 'torch.Tensor'>\n",
            "torch.Size([32, 3, 32, 32])\n",
            "torch.float32\n",
            "tensor(0.1765)\n"
          ]
        }
      ]
    },
    {
      "cell_type": "code",
      "source": [
        "# x_batch.shape                             # torch.Size([32, 3, 32, 32])\n",
        "# model = nn.Linear(32,3*32*32)\n",
        "# model(x_batch)\n",
        "# 3*32*32를 직접 계산하지 않고 flatten 함수로 대체해서 사용!\n",
        "torch.flatten(x_batch,start_dim=1).shape    # torch.Size([32, 3072])"
      ],
      "metadata": {
        "colab": {
          "base_uri": "https://localhost:8080/"
        },
        "id": "SgdqLjiRqCsA",
        "outputId": "0dcab96a-d2e1-46e2-bd9f-b8cd17b1ab91"
      },
      "execution_count": null,
      "outputs": [
        {
          "output_type": "execute_result",
          "data": {
            "text/plain": [
              "torch.Size([32, 3072])"
            ]
          },
          "metadata": {},
          "execution_count": 67
        }
      ]
    },
    {
      "cell_type": "code",
      "source": [
        "bn = nn.BatchNorm1d(30)\n",
        "bn.weight\n",
        "# tensor([1., 1., 1., 1., 1., 1., 1., 1., 1., 1., 1., 1., 1., 1., 1., 1., 1., 1.,\n",
        "#         1., 1., 1., 1., 1., 1., 1., 1., 1., 1., 1., 1.], requires_grad=True)\n",
        "# bn.bias\n",
        "# tensor([0., 0., 0., 0., 0., 0., 0., 0., 0., 0., 0., 0., 0., 0., 0., 0., 0., 0., 0., 0., 0., 0., 0., 0.,\n",
        "#         0., 0., 0., 0., 0., 0.], requires_grad=True)\n",
        "# 평균 0, 분산1로 시작해서 배치놈으로 재배치를 진행하겠다."
      ],
      "metadata": {
        "colab": {
          "base_uri": "https://localhost:8080/"
        },
        "id": "27OjBeoNrwyo",
        "outputId": "7665276b-d0ea-4e72-aa3d-43c75541c376"
      },
      "execution_count": null,
      "outputs": [
        {
          "output_type": "execute_result",
          "data": {
            "text/plain": [
              "Parameter containing:\n",
              "tensor([1., 1., 1., 1., 1., 1., 1., 1., 1., 1., 1., 1., 1., 1., 1., 1., 1., 1.,\n",
              "        1., 1., 1., 1., 1., 1., 1., 1., 1., 1., 1., 1.], requires_grad=True)"
            ]
          },
          "metadata": {},
          "execution_count": 68
        }
      ]
    },
    {
      "cell_type": "code",
      "source": [
        "class MLP(nn.Module):\n",
        "    def __init__(self):\n",
        "        super().__init__()\n",
        "        self.fcs = nn.Sequential(nn.Linear(3*32*32, 30), # 왜 3*32*32일까? x_batch에서 채행렬 자체를 노드값으로 넣어주기 위해\n",
        "                                 nn.BatchNorm1d(30),\n",
        "                                 nn.ReLU(),\n",
        "                                 nn.Linear(30, 10)) # 10 = 클래스수\n",
        "    def forward(self,x):\n",
        "        x = torch.flatten(x, start_dim=1)  # torch.Size([32, 3072]) 모든 픽셀을 노드로 봐야하기 때문에 쭉 펴주는게 필요!\n",
        "        x = self.fcs(x)\n",
        "        return x\n",
        "\n",
        "# CNN_deep이 성능이 더 좋음\n",
        "class CNN(nn.Module):\n",
        "    def __init__(self):\n",
        "        super().__init__()\n",
        "        self.conv1 = nn.Sequential(nn.Conv2d(3,8,3, padding=1),\n",
        "                                   nn.BatchNorm2d(8),\n",
        "                                   nn.ReLU())\n",
        "        self.Maxpool1 = nn.MaxPool2d(2)\n",
        "        self.conv2 = nn.Sequential(nn.Conv2d(8,16,3, padding=1),\n",
        "                                   nn.BatchNorm2d(16),\n",
        "                                   nn.ReLU())\n",
        "        self.Maxpool2 = nn.MaxPool2d(2)\n",
        "        self.conv3 = nn.Sequential(nn.Conv2d(16,32,3, padding=1),\n",
        "                                   nn.BatchNorm2d(32),\n",
        "                                   nn.ReLU())\n",
        "        self.Maxpool3 = nn.MaxPool2d(2)\n",
        "        self.fc = nn.Linear(32*4*4,10)\n",
        "\n",
        "    def forward(self, x):\n",
        "        x = self.conv1(x)\n",
        "        x = self.Maxpool1(x)\n",
        "        x = self.conv2(x)\n",
        "        x = self.Maxpool2(x)\n",
        "        x = self.conv3(x)\n",
        "        x = self.Maxpool3(x)\n",
        "        x = torch.flatten(x, start_dim=1)\n",
        "        x = self.fc(x)\n",
        "        return x\n",
        "\n",
        "class CNN_deep(nn.Module):\n",
        "    def __init__(self):\n",
        "        super().__init__()\n",
        "        self.conv_block1 = nn.Sequential(nn.Conv2d(3,32,3,padding=1),\n",
        "                                         nn.BatchNorm2d(32),\n",
        "                                         nn.ReLU(),\n",
        "                                         nn.Conv2d(32,32,3,padding=1),\n",
        "                                         nn.BatchNorm2d(32),\n",
        "                                         nn.ReLU())\n",
        "        self.Maxpool1 = nn.MaxPool2d(2)\n",
        "\n",
        "        self.conv_block2 = nn.Sequential(nn.Conv2d(32,64,3,padding=1),\n",
        "                                         nn.BatchNorm2d(64),\n",
        "                                         nn.ReLU(),\n",
        "                                         nn.Conv2d(64,64,3,padding=1),\n",
        "                                         nn.BatchNorm2d(64),\n",
        "                                         nn.ReLU(),\n",
        "                                         nn.Conv2d(64,64,3,padding=1),\n",
        "                                         nn.BatchNorm2d(64),\n",
        "                                         nn.ReLU())\n",
        "        self.Maxpool2 = nn.MaxPool2d(2)\n",
        "\n",
        "        self.conv_block3 = nn.Sequential(nn.Conv2d(64,128,3,padding=1),\n",
        "                                         nn.BatchNorm2d(128),\n",
        "                                         nn.ReLU(),\n",
        "                                         nn.Conv2d(128,128,3,padding=1),\n",
        "                                         nn.BatchNorm2d(128),\n",
        "                                         nn.ReLU(),\n",
        "                                         nn.Conv2d(128,128,3,padding=1),\n",
        "                                         nn.BatchNorm2d(128),\n",
        "                                         nn.ReLU())\n",
        "        self.Maxpool3 = nn.MaxPool2d(2)\n",
        "\n",
        "        self.classifier = nn.Sequential(nn.Linear(128*4*4,512),\n",
        "                                        nn.ReLU(),\n",
        "                                        nn.Linear(512,10))\n",
        "\n",
        "    def forward(self, x):\n",
        "        x = self.conv_block1(x)\n",
        "        x = self.Maxpool1(x)\n",
        "        x = self.conv_block2(x)\n",
        "        x = self.Maxpool2(x)\n",
        "        x = self.conv_block3(x)\n",
        "        x = self.Maxpool3(x)\n",
        "        x = torch.flatten(x, start_dim=1)\n",
        "        x = self.classifier(x)\n",
        "        return x"
      ],
      "metadata": {
        "id": "dntfnP2urvrF"
      },
      "execution_count": null,
      "outputs": []
    },
    {
      "cell_type": "code",
      "source": [
        "model = eval(f\"{model_type}().to(DEVICE)\")\n",
        "# model = MLP().to(DEVICE) # 위와 똑같은 코드\n",
        "# to.(DEVICE) : GPU에 올려서 연산처리\n",
        "# x, y, model 모두 DEVICE에 올려줘야함\n",
        "print(model)\n",
        "x_batch, _ = next(iter(train_DL))\n",
        "print(model(x_batch.to(DEVICE)).shape) # torch.Size([32, 10])\n",
        "\n",
        "# print(count_params(model))"
      ],
      "metadata": {
        "colab": {
          "base_uri": "https://localhost:8080/"
        },
        "id": "QNdqIG7Pr9de",
        "outputId": "c36e3d9a-1596-4a3e-985b-dcdd78ff3d3d"
      },
      "execution_count": null,
      "outputs": [
        {
          "output_type": "stream",
          "name": "stdout",
          "text": [
            "CNN_deep(\n",
            "  (conv_block1): Sequential(\n",
            "    (0): Conv2d(3, 32, kernel_size=(3, 3), stride=(1, 1), padding=(1, 1))\n",
            "    (1): BatchNorm2d(32, eps=1e-05, momentum=0.1, affine=True, track_running_stats=True)\n",
            "    (2): ReLU()\n",
            "    (3): Conv2d(32, 32, kernel_size=(3, 3), stride=(1, 1), padding=(1, 1))\n",
            "    (4): BatchNorm2d(32, eps=1e-05, momentum=0.1, affine=True, track_running_stats=True)\n",
            "    (5): ReLU()\n",
            "  )\n",
            "  (Maxpool1): MaxPool2d(kernel_size=2, stride=2, padding=0, dilation=1, ceil_mode=False)\n",
            "  (conv_block2): Sequential(\n",
            "    (0): Conv2d(32, 64, kernel_size=(3, 3), stride=(1, 1), padding=(1, 1))\n",
            "    (1): BatchNorm2d(64, eps=1e-05, momentum=0.1, affine=True, track_running_stats=True)\n",
            "    (2): ReLU()\n",
            "    (3): Conv2d(64, 64, kernel_size=(3, 3), stride=(1, 1), padding=(1, 1))\n",
            "    (4): BatchNorm2d(64, eps=1e-05, momentum=0.1, affine=True, track_running_stats=True)\n",
            "    (5): ReLU()\n",
            "    (6): Conv2d(64, 64, kernel_size=(3, 3), stride=(1, 1), padding=(1, 1))\n",
            "    (7): BatchNorm2d(64, eps=1e-05, momentum=0.1, affine=True, track_running_stats=True)\n",
            "    (8): ReLU()\n",
            "  )\n",
            "  (Maxpool2): MaxPool2d(kernel_size=2, stride=2, padding=0, dilation=1, ceil_mode=False)\n",
            "  (conv_block3): Sequential(\n",
            "    (0): Conv2d(64, 128, kernel_size=(3, 3), stride=(1, 1), padding=(1, 1))\n",
            "    (1): BatchNorm2d(128, eps=1e-05, momentum=0.1, affine=True, track_running_stats=True)\n",
            "    (2): ReLU()\n",
            "    (3): Conv2d(128, 128, kernel_size=(3, 3), stride=(1, 1), padding=(1, 1))\n",
            "    (4): BatchNorm2d(128, eps=1e-05, momentum=0.1, affine=True, track_running_stats=True)\n",
            "    (5): ReLU()\n",
            "    (6): Conv2d(128, 128, kernel_size=(3, 3), stride=(1, 1), padding=(1, 1))\n",
            "    (7): BatchNorm2d(128, eps=1e-05, momentum=0.1, affine=True, track_running_stats=True)\n",
            "    (8): ReLU()\n",
            "  )\n",
            "  (Maxpool3): MaxPool2d(kernel_size=2, stride=2, padding=0, dilation=1, ceil_mode=False)\n",
            "  (classifier): Sequential(\n",
            "    (0): Linear(in_features=2048, out_features=512, bias=True)\n",
            "    (1): ReLU()\n",
            "    (2): Linear(in_features=512, out_features=10, bias=True)\n",
            "  )\n",
            ")\n",
            "torch.Size([32, 10])\n"
          ]
        }
      ]
    },
    {
      "cell_type": "code",
      "source": [
        "if new_model_train:\n",
        "    optimizer = optim.Adam(model.parameters(), lr = LR)\n",
        "    loss_history = Train(model, train_DL, criterion, optimizer, EPOCH)\n",
        "\n",
        "    torch.save(model, save_model_path)\n",
        "\n",
        "    plt.figure()\n",
        "    plt.plot(range(1,EPOCH+1),loss_history)\n",
        "    plt.xlabel(\"Epochs\")\n",
        "    plt.ylabel(\"Loss\")\n",
        "    plt.title(\"Train Loss\")\n",
        "    plt.grid()"
      ],
      "metadata": {
        "id": "YcP_8-HxsAFu"
      },
      "execution_count": null,
      "outputs": []
    },
    {
      "cell_type": "code",
      "source": [
        "load_model = torch.load(save_model_path, map_location=DEVICE)"
      ],
      "metadata": {
        "id": "co-JvxgJsGcn"
      },
      "execution_count": null,
      "outputs": []
    },
    {
      "cell_type": "markdown",
      "source": [
        "테스트"
      ],
      "metadata": {
        "id": "agbNTS7RJqOs"
      }
    },
    {
      "cell_type": "code",
      "source": [
        "Test(load_model, test_DL)\n",
        "print(count_params(load_model))"
      ],
      "metadata": {
        "id": "20eAg5MxsHrx",
        "colab": {
          "base_uri": "https://localhost:8080/"
        },
        "outputId": "c1f2231b-a436-4399-8928-79f640368cea"
      },
      "execution_count": null,
      "outputs": [
        {
          "output_type": "stream",
          "name": "stdout",
          "text": [
            "Test accuracy: 7994/10000 (79.9 %)\n",
            "1527018\n"
          ]
        }
      ]
    },
    {
      "cell_type": "code",
      "source": [
        "Test_plot(load_model,test_DL) # 결과 : \"예측값(실제정답값)\""
      ],
      "metadata": {
        "id": "l-fhkLWNsM-m",
        "colab": {
          "base_uri": "https://localhost:8080/",
          "height": 367
        },
        "outputId": "c8c477b9-ea4d-4f3f-950f-ef7a3918c0bf"
      },
      "execution_count": null,
      "outputs": [
        {
          "output_type": "display_data",
          "data": {
            "text/plain": [
              "<Figure size 800x400 with 6 Axes>"
            ],
            "image/png": "[encoded data removed]"
          },
          "metadata": {}
        }
      ]
    }
  ]
}